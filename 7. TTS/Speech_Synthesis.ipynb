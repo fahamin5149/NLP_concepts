{
  "nbformat": 4,
  "nbformat_minor": 0,
  "metadata": {
    "colab": {
      "provenance": [],
      "gpuType": "V28"
    },
    "kernelspec": {
      "name": "python3",
      "display_name": "Python 3"
    },
    "language_info": {
      "name": "python"
    },
    "accelerator": "TPU"
  },
  "cells": [
    {
      "cell_type": "code",
      "source": [
        "!pip install gradio torch torchaudio sentencepiece"
      ],
      "metadata": {
        "id": "V12dU1_OL_mw"
      },
      "execution_count": null,
      "outputs": []
    },
    {
      "cell_type": "code",
      "execution_count": null,
      "metadata": {
        "id": "chgYV2VeE7yj"
      },
      "outputs": [],
      "source": [
        "import torchaudio\n",
        "from transformers import AutoProcessor, SeamlessM4TModel\n",
        "processor = AutoProcessor.from_pretrained(\"facebook/hf-seamless-m4t-large\")\n",
        "model = SeamlessM4TModel.from_pretrained(\"facebook/hf-seamless-m4t-large\")"
      ]
    },
    {
      "cell_type": "code",
      "source": [
        "import torch\n",
        "device = torch.device(\"cuda:0\" if torch.cuda.is_available() else \"cpu\")\n",
        "\n",
        "tt = \"نادرا نے چائے والا کے نام سے مشہور ارش د خان کا شناختی کارڈ کیوں بلاک کیا\"\n",
        "# Process some input text as well:\n",
        "text_inputs = processor(text = tt, src_lang=\"urd\", return_tensors=\"pt\")"
      ],
      "metadata": {
        "id": "0-yctNw5HlhX"
      },
      "execution_count": null,
      "outputs": []
    },
    {
      "cell_type": "code",
      "source": [
        "audio_array_from_text = model.generate(**text_inputs, tgt_lang=\"urd\")[0].cpu().numpy().squeeze()"
      ],
      "metadata": {
        "id": "Zta34luDOQBv"
      },
      "execution_count": null,
      "outputs": []
    },
    {
      "cell_type": "code",
      "source": [
        "from IPython.display import Audio\n",
        "\n",
        "sample_rate = model.config.sampling_rate\n",
        "Audio(audio_array_from_text, rate=sample_rate)"
      ],
      "metadata": {
        "id": "WapIFfGIPHFd"
      },
      "execution_count": null,
      "outputs": []
    },
    {
      "cell_type": "code",
      "source": [],
      "metadata": {
        "id": "SI6NdL0WPhYd"
      },
      "execution_count": null,
      "outputs": []
    }
  ]
}