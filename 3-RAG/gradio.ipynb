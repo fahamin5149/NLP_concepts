{
  "cells": [
    {
      "cell_type": "code",
      "execution_count": null,
      "metadata": {
        "colab": {
          "base_uri": "https://localhost:8080/"
        },
        "id": "Ac30qtYDtpxM",
        "outputId": "3c7838c1-7b07-4ebe-b75d-94ff2df36981"
      },
      "outputs": [
        {
          "name": "stdout",
          "output_type": "stream",
          "text": [
            "Collecting gradio\n",
            "  Downloading gradio-4.44.0-py3-none-any.whl.metadata (15 kB)\n",
            "Collecting aiofiles<24.0,>=22.0 (from gradio)\n",
            "  Downloading aiofiles-23.2.1-py3-none-any.whl.metadata (9.7 kB)\n",
            "Requirement already satisfied: anyio<5.0,>=3.0 in /usr/local/lib/python3.10/dist-packages (from gradio) (3.7.1)\n",
            "Collecting fastapi<1.0 (from gradio)\n",
            "  Downloading fastapi-0.114.1-py3-none-any.whl.metadata (27 kB)\n",
            "Collecting ffmpy (from gradio)\n",
            "  Downloading ffmpy-0.4.0-py3-none-any.whl.metadata (2.9 kB)\n",
            "Collecting gradio-client==1.3.0 (from gradio)\n",
            "  Downloading gradio_client-1.3.0-py3-none-any.whl.metadata (7.1 kB)\n",
            "Collecting httpx>=0.24.1 (from gradio)\n",
            "  Downloading httpx-0.27.2-py3-none-any.whl.metadata (7.1 kB)\n",
            "Requirement already satisfied: huggingface-hub>=0.19.3 in /usr/local/lib/python3.10/dist-packages (from gradio) (0.24.6)\n",
            "Requirement already satisfied: importlib-resources<7.0,>=1.3 in /usr/local/lib/python3.10/dist-packages (from gradio) (6.4.5)\n",
            "Requirement already satisfied: jinja2<4.0 in /usr/local/lib/python3.10/dist-packages (from gradio) (3.1.4)\n",
            "Requirement already satisfied: markupsafe~=2.0 in /usr/local/lib/python3.10/dist-packages (from gradio) (2.1.5)\n",
            "Requirement already satisfied: matplotlib~=3.0 in /usr/local/lib/python3.10/dist-packages (from gradio) (3.7.1)\n",
            "Requirement already satisfied: numpy<3.0,>=1.0 in /usr/local/lib/python3.10/dist-packages (from gradio) (1.26.4)\n",
            "Collecting orjson~=3.0 (from gradio)\n",
            "  Downloading orjson-3.10.7-cp310-cp310-manylinux_2_17_x86_64.manylinux2014_x86_64.whl.metadata (50 kB)\n",
            "\u001b[2K     \u001b[90m━━━━━━━━━━━━━━━━━━━━━━━━━━━━━━━━━━━━━━━━\u001b[0m \u001b[32m50.4/50.4 kB\u001b[0m \u001b[31m1.1 MB/s\u001b[0m eta \u001b[36m0:00:00\u001b[0m\n",
            "\u001b[?25hRequirement already satisfied: packaging in /usr/local/lib/python3.10/dist-packages (from gradio) (24.1)\n",
            "Requirement already satisfied: pandas<3.0,>=1.0 in /usr/local/lib/python3.10/dist-packages (from gradio) (2.1.4)\n",
            "Requirement already satisfied: pillow<11.0,>=8.0 in /usr/local/lib/python3.10/dist-packages (from gradio) (9.4.0)\n",
            "Requirement already satisfied: pydantic>=2.0 in /usr/local/lib/python3.10/dist-packages (from gradio) (2.9.1)\n",
            "Collecting pydub (from gradio)\n",
            "  Downloading pydub-0.25.1-py2.py3-none-any.whl.metadata (1.4 kB)\n",
            "Collecting python-multipart>=0.0.9 (from gradio)\n",
            "  Downloading python_multipart-0.0.9-py3-none-any.whl.metadata (2.5 kB)\n",
            "Requirement already satisfied: pyyaml<7.0,>=5.0 in /usr/local/lib/python3.10/dist-packages (from gradio) (6.0.2)\n",
            "Collecting ruff>=0.2.2 (from gradio)\n",
            "  Downloading ruff-0.6.4-py3-none-manylinux_2_17_x86_64.manylinux2014_x86_64.whl.metadata (25 kB)\n",
            "Collecting semantic-version~=2.0 (from gradio)\n",
            "  Downloading semantic_version-2.10.0-py2.py3-none-any.whl.metadata (9.7 kB)\n",
            "Collecting tomlkit==0.12.0 (from gradio)\n",
            "  Downloading tomlkit-0.12.0-py3-none-any.whl.metadata (2.7 kB)\n",
            "Requirement already satisfied: typer<1.0,>=0.12 in /usr/local/lib/python3.10/dist-packages (from gradio) (0.12.5)\n",
            "Requirement already satisfied: typing-extensions~=4.0 in /usr/local/lib/python3.10/dist-packages (from gradio) (4.12.2)\n",
            "Requirement already satisfied: urllib3~=2.0 in /usr/local/lib/python3.10/dist-packages (from gradio) (2.0.7)\n",
            "Collecting uvicorn>=0.14.0 (from gradio)\n",
            "  Downloading uvicorn-0.30.6-py3-none-any.whl.metadata (6.6 kB)\n",
            "Requirement already satisfied: fsspec in /usr/local/lib/python3.10/dist-packages (from gradio-client==1.3.0->gradio) (2024.6.1)\n",
            "Collecting websockets<13.0,>=10.0 (from gradio-client==1.3.0->gradio)\n",
            "  Downloading websockets-12.0-cp310-cp310-manylinux_2_5_x86_64.manylinux1_x86_64.manylinux_2_17_x86_64.manylinux2014_x86_64.whl.metadata (6.6 kB)\n",
            "Requirement already satisfied: idna>=2.8 in /usr/local/lib/python3.10/dist-packages (from anyio<5.0,>=3.0->gradio) (3.8)\n",
            "Requirement already satisfied: sniffio>=1.1 in /usr/local/lib/python3.10/dist-packages (from anyio<5.0,>=3.0->gradio) (1.3.1)\n",
            "Requirement already satisfied: exceptiongroup in /usr/local/lib/python3.10/dist-packages (from anyio<5.0,>=3.0->gradio) (1.2.2)\n",
            "Collecting starlette<0.39.0,>=0.37.2 (from fastapi<1.0->gradio)\n",
            "  Downloading starlette-0.38.5-py3-none-any.whl.metadata (6.0 kB)\n",
            "Requirement already satisfied: certifi in /usr/local/lib/python3.10/dist-packages (from httpx>=0.24.1->gradio) (2024.8.30)\n",
            "Collecting httpcore==1.* (from httpx>=0.24.1->gradio)\n",
            "  Downloading httpcore-1.0.5-py3-none-any.whl.metadata (20 kB)\n",
            "Collecting h11<0.15,>=0.13 (from httpcore==1.*->httpx>=0.24.1->gradio)\n",
            "  Downloading h11-0.14.0-py3-none-any.whl.metadata (8.2 kB)\n",
            "Requirement already satisfied: filelock in /usr/local/lib/python3.10/dist-packages (from huggingface-hub>=0.19.3->gradio) (3.16.0)\n",
            "Requirement already satisfied: requests in /usr/local/lib/python3.10/dist-packages (from huggingface-hub>=0.19.3->gradio) (2.32.3)\n",
            "Requirement already satisfied: tqdm>=4.42.1 in /usr/local/lib/python3.10/dist-packages (from huggingface-hub>=0.19.3->gradio) (4.66.5)\n",
            "Requirement already satisfied: contourpy>=1.0.1 in /usr/local/lib/python3.10/dist-packages (from matplotlib~=3.0->gradio) (1.3.0)\n",
            "Requirement already satisfied: cycler>=0.10 in /usr/local/lib/python3.10/dist-packages (from matplotlib~=3.0->gradio) (0.12.1)\n",
            "Requirement already satisfied: fonttools>=4.22.0 in /usr/local/lib/python3.10/dist-packages (from matplotlib~=3.0->gradio) (4.53.1)\n",
            "Requirement already satisfied: kiwisolver>=1.0.1 in /usr/local/lib/python3.10/dist-packages (from matplotlib~=3.0->gradio) (1.4.7)\n",
            "Requirement already satisfied: pyparsing>=2.3.1 in /usr/local/lib/python3.10/dist-packages (from matplotlib~=3.0->gradio) (3.1.4)\n",
            "Requirement already satisfied: python-dateutil>=2.7 in /usr/local/lib/python3.10/dist-packages (from matplotlib~=3.0->gradio) (2.8.2)\n",
            "Requirement already satisfied: pytz>=2020.1 in /usr/local/lib/python3.10/dist-packages (from pandas<3.0,>=1.0->gradio) (2024.1)\n",
            "Requirement already satisfied: tzdata>=2022.1 in /usr/local/lib/python3.10/dist-packages (from pandas<3.0,>=1.0->gradio) (2024.1)\n",
            "Requirement already satisfied: annotated-types>=0.6.0 in /usr/local/lib/python3.10/dist-packages (from pydantic>=2.0->gradio) (0.7.0)\n",
            "Requirement already satisfied: pydantic-core==2.23.3 in /usr/local/lib/python3.10/dist-packages (from pydantic>=2.0->gradio) (2.23.3)\n",
            "Requirement already satisfied: click>=8.0.0 in /usr/local/lib/python3.10/dist-packages (from typer<1.0,>=0.12->gradio) (8.1.7)\n",
            "Requirement already satisfied: shellingham>=1.3.0 in /usr/local/lib/python3.10/dist-packages (from typer<1.0,>=0.12->gradio) (1.5.4)\n",
            "Requirement already satisfied: rich>=10.11.0 in /usr/local/lib/python3.10/dist-packages (from typer<1.0,>=0.12->gradio) (13.8.0)\n",
            "Requirement already satisfied: six>=1.5 in /usr/local/lib/python3.10/dist-packages (from python-dateutil>=2.7->matplotlib~=3.0->gradio) (1.16.0)\n",
            "Requirement already satisfied: markdown-it-py>=2.2.0 in /usr/local/lib/python3.10/dist-packages (from rich>=10.11.0->typer<1.0,>=0.12->gradio) (3.0.0)\n",
            "Requirement already satisfied: pygments<3.0.0,>=2.13.0 in /usr/local/lib/python3.10/dist-packages (from rich>=10.11.0->typer<1.0,>=0.12->gradio) (2.16.1)\n",
            "Requirement already satisfied: charset-normalizer<4,>=2 in /usr/local/lib/python3.10/dist-packages (from requests->huggingface-hub>=0.19.3->gradio) (3.3.2)\n",
            "Requirement already satisfied: mdurl~=0.1 in /usr/local/lib/python3.10/dist-packages (from markdown-it-py>=2.2.0->rich>=10.11.0->typer<1.0,>=0.12->gradio) (0.1.2)\n",
            "Downloading gradio-4.44.0-py3-none-any.whl (18.1 MB)\n",
            "\u001b[2K   \u001b[90m━━━━━━━━━━━━━━━━━━━━━━━━━━━━━━━━━━━━━━━━\u001b[0m \u001b[32m18.1/18.1 MB\u001b[0m \u001b[31m27.5 MB/s\u001b[0m eta \u001b[36m0:00:00\u001b[0m\n",
            "\u001b[?25hDownloading gradio_client-1.3.0-py3-none-any.whl (318 kB)\n",
            "\u001b[2K   \u001b[90m━━━━━━━━━━━━━━━━━━━━━━━━━━━━━━━━━━━━━━━━\u001b[0m \u001b[32m318.7/318.7 kB\u001b[0m \u001b[31m4.4 MB/s\u001b[0m eta \u001b[36m0:00:00\u001b[0m\n",
            "\u001b[?25hDownloading tomlkit-0.12.0-py3-none-any.whl (37 kB)\n",
            "Downloading aiofiles-23.2.1-py3-none-any.whl (15 kB)\n",
            "Downloading fastapi-0.114.1-py3-none-any.whl (94 kB)\n",
            "\u001b[2K   \u001b[90m━━━━━━━━━━━━━━━━━━━━━━━━━━━━━━━━━━━━━━━━\u001b[0m \u001b[32m94.0/94.0 kB\u001b[0m \u001b[31m5.8 MB/s\u001b[0m eta \u001b[36m0:00:00\u001b[0m\n",
            "\u001b[?25hDownloading httpx-0.27.2-py3-none-any.whl (76 kB)\n",
            "\u001b[2K   \u001b[90m━━━━━━━━━━━━━━━━━━━━━━━━━━━━━━━━━━━━━━━━\u001b[0m \u001b[32m76.4/76.4 kB\u001b[0m \u001b[31m2.2 MB/s\u001b[0m eta \u001b[36m0:00:00\u001b[0m\n",
            "\u001b[?25hDownloading httpcore-1.0.5-py3-none-any.whl (77 kB)\n",
            "\u001b[2K   \u001b[90m━━━━━━━━━━━━━━━━━━━━━━━━━━━━━━━━━━━━━━━━\u001b[0m \u001b[32m77.9/77.9 kB\u001b[0m \u001b[31m4.3 MB/s\u001b[0m eta \u001b[36m0:00:00\u001b[0m\n",
            "\u001b[?25hDownloading orjson-3.10.7-cp310-cp310-manylinux_2_17_x86_64.manylinux2014_x86_64.whl (141 kB)\n",
            "\u001b[2K   \u001b[90m━━━━━━━━━━━━━━━━━━━━━━━━━━━━━━━━━━━━━━━━\u001b[0m \u001b[32m141.9/141.9 kB\u001b[0m \u001b[31m3.6 MB/s\u001b[0m eta \u001b[36m0:00:00\u001b[0m\n",
            "\u001b[?25hDownloading python_multipart-0.0.9-py3-none-any.whl (22 kB)\n",
            "Downloading ruff-0.6.4-py3-none-manylinux_2_17_x86_64.manylinux2014_x86_64.whl (10.3 MB)\n",
            "\u001b[2K   \u001b[90m━━━━━━━━━━━━━━━━━━━━━━━━━━━━━━━━━━━━━━━━\u001b[0m \u001b[32m10.3/10.3 MB\u001b[0m \u001b[31m22.2 MB/s\u001b[0m eta \u001b[36m0:00:00\u001b[0m\n",
            "\u001b[?25hDownloading semantic_version-2.10.0-py2.py3-none-any.whl (15 kB)\n",
            "Downloading uvicorn-0.30.6-py3-none-any.whl (62 kB)\n",
            "\u001b[2K   \u001b[90m━━━━━━━━━━━━━━━━━━━━━━━━━━━━━━━━━━━━━━━━\u001b[0m \u001b[32m62.8/62.8 kB\u001b[0m \u001b[31m3.4 MB/s\u001b[0m eta \u001b[36m0:00:00\u001b[0m\n",
            "\u001b[?25hDownloading ffmpy-0.4.0-py3-none-any.whl (5.8 kB)\n",
            "Downloading pydub-0.25.1-py2.py3-none-any.whl (32 kB)\n",
            "Downloading h11-0.14.0-py3-none-any.whl (58 kB)\n",
            "\u001b[2K   \u001b[90m━━━━━━━━━━━━━━━━━━━━━━━━━━━━━━━━━━━━━━━━\u001b[0m \u001b[32m58.3/58.3 kB\u001b[0m \u001b[31m2.3 MB/s\u001b[0m eta \u001b[36m0:00:00\u001b[0m\n",
            "\u001b[?25hDownloading starlette-0.38.5-py3-none-any.whl (71 kB)\n",
            "\u001b[2K   \u001b[90m━━━━━━━━━━━━━━━━━━━━━━━━━━━━━━━━━━━━━━━━\u001b[0m \u001b[32m71.4/71.4 kB\u001b[0m \u001b[31m2.5 MB/s\u001b[0m eta \u001b[36m0:00:00\u001b[0m\n",
            "\u001b[?25hDownloading websockets-12.0-cp310-cp310-manylinux_2_5_x86_64.manylinux1_x86_64.manylinux_2_17_x86_64.manylinux2014_x86_64.whl (130 kB)\n",
            "\u001b[2K   \u001b[90m━━━━━━━━━━━━━━━━━━━━━━━━━━━━━━━━━━━━━━━━\u001b[0m \u001b[32m130.2/130.2 kB\u001b[0m \u001b[31m6.5 MB/s\u001b[0m eta \u001b[36m0:00:00\u001b[0m\n",
            "\u001b[?25hInstalling collected packages: pydub, websockets, tomlkit, semantic-version, ruff, python-multipart, orjson, h11, ffmpy, aiofiles, uvicorn, starlette, httpcore, httpx, fastapi, gradio-client, gradio\n",
            "  Attempting uninstall: tomlkit\n",
            "    Found existing installation: tomlkit 0.13.2\n",
            "    Uninstalling tomlkit-0.13.2:\n",
            "      Successfully uninstalled tomlkit-0.13.2\n",
            "Successfully installed aiofiles-23.2.1 fastapi-0.114.1 ffmpy-0.4.0 gradio-4.44.0 gradio-client-1.3.0 h11-0.14.0 httpcore-1.0.5 httpx-0.27.2 orjson-3.10.7 pydub-0.25.1 python-multipart-0.0.9 ruff-0.6.4 semantic-version-2.10.0 starlette-0.38.5 tomlkit-0.12.0 uvicorn-0.30.6 websockets-12.0\n"
          ]
        }
      ],
      "source": [
        "!pip install gradio"
      ]
    },
    {
      "cell_type": "markdown",
      "metadata": {
        "id": "nu3zxwfsi4pM"
      },
      "source": [
        "![image.png](data:image/png;base64,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)"
      ]
    },
    {
      "cell_type": "code",
      "execution_count": null,
      "metadata": {
        "colab": {
          "base_uri": "https://localhost:8080/",
          "height": 646
        },
        "id": "1VMug5liuZRi",
        "outputId": "27bc974f-5a35-4821-8649-3234223be8a6"
      },
      "outputs": [
        {
          "name": "stdout",
          "output_type": "stream",
          "text": [
            "Setting queue=True in a Colab notebook requires sharing enabled. Setting `share=True` (you can turn this off by setting `share=False` in `launch()` explicitly).\n",
            "\n",
            "Colab notebook detected. To show errors in colab notebook, set debug=True in launch()\n",
            "Running on public URL: https://90ad165c7c7cbc4684.gradio.live\n",
            "\n",
            "This share link expires in 72 hours. For free permanent hosting and GPU upgrades, run `gradio deploy` from Terminal to deploy to Spaces (https://huggingface.co/spaces)\n"
          ]
        },
        {
          "data": {
            "text/html": [
              "<div><iframe src=\"https://90ad165c7c7cbc4684.gradio.live\" width=\"100%\" height=\"500\" allow=\"autoplay; camera; microphone; clipboard-read; clipboard-write;\" frameborder=\"0\" allowfullscreen></iframe></div>"
            ],
            "text/plain": [
              "<IPython.core.display.HTML object>"
            ]
          },
          "metadata": {},
          "output_type": "display_data"
        }
      ],
      "source": [
        "import gradio as gr\n",
        "\n",
        "def greet(name, intensity):\n",
        "    return \"Hello, \" + name + \"!\" * intensity\n",
        "\n",
        "demo = gr.Interface(\n",
        "    fn=greet,\n",
        "    inputs=[\"text\", gr.Slider(value=2, minimum=1, maximum=10, step=1)],\n",
        "    outputs=[gr.Textbox(label=\"greeting\", lines=3)],\n",
        ")\n",
        "\n",
        "if __name__ == \"__main__\":\n",
        "    demo.launch()"
      ]
    },
    {
      "cell_type": "markdown",
      "metadata": {
        "id": "KHk6UKBqjTjy"
      },
      "source": [
        "![image.png](data:image/png;base64,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)"
      ]
    },
    {
      "cell_type": "code",
      "execution_count": null,
      "metadata": {
        "colab": {
          "base_uri": "https://localhost:8080/",
          "height": 646
        },
        "id": "hxoDp5NQunjZ",
        "outputId": "4e2a561d-ae40-4404-c034-e5ac1228a52d"
      },
      "outputs": [
        {
          "name": "stdout",
          "output_type": "stream",
          "text": [
            "Setting queue=True in a Colab notebook requires sharing enabled. Setting `share=True` (you can turn this off by setting `share=False` in `launch()` explicitly).\n",
            "\n",
            "Colab notebook detected. To show errors in colab notebook, set debug=True in launch()\n",
            "Running on public URL: https://6553107139444e8a9e.gradio.live\n",
            "\n",
            "This share link expires in 72 hours. For free permanent hosting and GPU upgrades, run `gradio deploy` from Terminal to deploy to Spaces (https://huggingface.co/spaces)\n"
          ]
        },
        {
          "data": {
            "text/html": [
              "<div><iframe src=\"https://6553107139444e8a9e.gradio.live\" width=\"100%\" height=\"500\" allow=\"autoplay; camera; microphone; clipboard-read; clipboard-write;\" frameborder=\"0\" allowfullscreen></iframe></div>"
            ],
            "text/plain": [
              "<IPython.core.display.HTML object>"
            ]
          },
          "metadata": {},
          "output_type": "display_data"
        },
        {
          "data": {
            "text/plain": []
          },
          "execution_count": 3,
          "metadata": {},
          "output_type": "execute_result"
        }
      ],
      "source": [
        "import gradio as gr\n",
        "\n",
        "def echo(message, history):\n",
        "    return message\n",
        "\n",
        "demo = gr.ChatInterface(fn=echo, examples=[\"hello\", \"hola\", \"merhaba\"], title=\"Echo Bot\")\n",
        "demo.launch()"
      ]
    },
    {
      "cell_type": "markdown",
      "metadata": {
        "id": "1aaaPbZ0jaTx"
      },
      "source": [
        "![image.png](data:image/png;base64,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)"
      ]
    },
    {
      "cell_type": "code",
      "execution_count": null,
      "metadata": {
        "colab": {
          "base_uri": "https://localhost:8080/",
          "height": 646
        },
        "id": "SNlpfzOnytru",
        "outputId": "78e66360-f9bf-446b-85a1-e0a07d54ef32"
      },
      "outputs": [
        {
          "name": "stdout",
          "output_type": "stream",
          "text": [
            "Setting queue=True in a Colab notebook requires sharing enabled. Setting `share=True` (you can turn this off by setting `share=False` in `launch()` explicitly).\n",
            "\n",
            "Colab notebook detected. To show errors in colab notebook, set debug=True in launch()\n",
            "Running on public URL: https://b9965be9263c493be9.gradio.live\n",
            "\n",
            "This share link expires in 72 hours. For free permanent hosting and GPU upgrades, run `gradio deploy` from Terminal to deploy to Spaces (https://huggingface.co/spaces)\n"
          ]
        },
        {
          "data": {
            "text/html": [
              "<div><iframe src=\"https://b9965be9263c493be9.gradio.live\" width=\"100%\" height=\"500\" allow=\"autoplay; camera; microphone; clipboard-read; clipboard-write;\" frameborder=\"0\" allowfullscreen></iframe></div>"
            ],
            "text/plain": [
              "<IPython.core.display.HTML object>"
            ]
          },
          "metadata": {},
          "output_type": "display_data"
        },
        {
          "data": {
            "text/plain": []
          },
          "execution_count": 4,
          "metadata": {},
          "output_type": "execute_result"
        }
      ],
      "source": [
        "import gradio as gr\n",
        "\n",
        "def yes(message, history):\n",
        "    return \"yes\"\n",
        "\n",
        "def vote(data: gr.LikeData):\n",
        "    if data.liked:\n",
        "        print(\"You upvoted this response: \" + data.value[\"value\"])\n",
        "    else:\n",
        "        print(\"You downvoted this response: \" + data.value[\"value\"])\n",
        "\n",
        "with gr.Blocks() as demo:\n",
        "    chatbot = gr.Chatbot(placeholder=\"<strong>Your Personal Yes-Man</strong><br>Ask Me Anything\")\n",
        "    chatbot.like(vote, None, None)\n",
        "    gr.ChatInterface(fn=yes, chatbot=chatbot)\n",
        "\n",
        "demo.launch()"
      ]
    },
    {
      "cell_type": "code",
      "execution_count": null,
      "metadata": {
        "colab": {
          "base_uri": "https://localhost:8080/",
          "height": 646
        },
        "id": "04Zha_uN0RTK",
        "outputId": "e07870db-9f1a-4cd0-ccbc-c17d1f315c45"
      },
      "outputs": [
        {
          "name": "stdout",
          "output_type": "stream",
          "text": [
            "Setting queue=True in a Colab notebook requires sharing enabled. Setting `share=True` (you can turn this off by setting `share=False` in `launch()` explicitly).\n",
            "\n",
            "Colab notebook detected. To show errors in colab notebook, set debug=True in launch()\n",
            "Running on public URL: https://80c4f114d830862c97.gradio.live\n",
            "\n",
            "This share link expires in 72 hours. For free permanent hosting and GPU upgrades, run `gradio deploy` from Terminal to deploy to Spaces (https://huggingface.co/spaces)\n"
          ]
        },
        {
          "data": {
            "text/html": [
              "<div><iframe src=\"https://80c4f114d830862c97.gradio.live\" width=\"100%\" height=\"500\" allow=\"autoplay; camera; microphone; clipboard-read; clipboard-write;\" frameborder=\"0\" allowfullscreen></iframe></div>"
            ],
            "text/plain": [
              "<IPython.core.display.HTML object>"
            ]
          },
          "metadata": {},
          "output_type": "display_data"
        }
      ],
      "source": [
        "import gradio as gr\n",
        "\n",
        "import random\n",
        "\n",
        "def random_response(message, history):\n",
        "    return random.choice([\"Yes\", \"No\"])\n",
        "\n",
        "chatbot=gr.ChatInterface(random_response).launch()"
      ]
    },
    {
      "cell_type": "code",
      "execution_count": null,
      "metadata": {
        "colab": {
          "base_uri": "https://localhost:8080/",
          "height": 646
        },
        "id": "oew_VpH21H-J",
        "outputId": "7a7b15b7-4c35-4709-ee60-45a0ddca44b8"
      },
      "outputs": [
        {
          "name": "stdout",
          "output_type": "stream",
          "text": [
            "Setting queue=True in a Colab notebook requires sharing enabled. Setting `share=True` (you can turn this off by setting `share=False` in `launch()` explicitly).\n",
            "\n",
            "Colab notebook detected. To show errors in colab notebook, set debug=True in launch()\n",
            "Running on public URL: https://b88f6007fb27ddb4d4.gradio.live\n",
            "\n",
            "This share link expires in 72 hours. For free permanent hosting and GPU upgrades, run `gradio deploy` from Terminal to deploy to Spaces (https://huggingface.co/spaces)\n"
          ]
        },
        {
          "data": {
            "text/html": [
              "<div><iframe src=\"https://b88f6007fb27ddb4d4.gradio.live\" width=\"100%\" height=\"500\" allow=\"autoplay; camera; microphone; clipboard-read; clipboard-write;\" frameborder=\"0\" allowfullscreen></iframe></div>"
            ],
            "text/plain": [
              "<IPython.core.display.HTML object>"
            ]
          },
          "metadata": {},
          "output_type": "display_data"
        },
        {
          "data": {
            "text/plain": []
          },
          "execution_count": 6,
          "metadata": {},
          "output_type": "execute_result"
        }
      ],
      "source": [
        "import random\n",
        "import gradio as gr\n",
        "\n",
        "def alternatingly_agree(message, history):\n",
        "    if len(history) % 2 == 0:\n",
        "        return f\"Yes, I do think that '{message}'\"\n",
        "    else:\n",
        "        return \"I don't think so\"\n",
        "\n",
        "gr.ChatInterface(alternatingly_agree).launch()"
      ]
    },
    {
      "cell_type": "markdown",
      "metadata": {
        "id": "JT6-cTPv2BYv"
      },
      "source": [
        "In your chat function, you can use yield to generate a sequence of partial responses, each replacing the previous ones. This way, you'll end up with a streaming chatbot. It's that simple!"
      ]
    },
    {
      "cell_type": "code",
      "execution_count": null,
      "metadata": {
        "colab": {
          "base_uri": "https://localhost:8080/",
          "height": 646
        },
        "id": "U9B2nYag1v0j",
        "outputId": "855dcebf-9d64-4f60-fab0-ee6492cbccf7"
      },
      "outputs": [
        {
          "name": "stdout",
          "output_type": "stream",
          "text": [
            "Setting queue=True in a Colab notebook requires sharing enabled. Setting `share=True` (you can turn this off by setting `share=False` in `launch()` explicitly).\n",
            "\n",
            "Colab notebook detected. To show errors in colab notebook, set debug=True in launch()\n",
            "Running on public URL: https://2a2cbaa605da1f58e7.gradio.live\n",
            "\n",
            "This share link expires in 72 hours. For free permanent hosting and GPU upgrades, run `gradio deploy` from Terminal to deploy to Spaces (https://huggingface.co/spaces)\n"
          ]
        },
        {
          "data": {
            "text/html": [
              "<div><iframe src=\"https://2a2cbaa605da1f58e7.gradio.live\" width=\"100%\" height=\"500\" allow=\"autoplay; camera; microphone; clipboard-read; clipboard-write;\" frameborder=\"0\" allowfullscreen></iframe></div>"
            ],
            "text/plain": [
              "<IPython.core.display.HTML object>"
            ]
          },
          "metadata": {},
          "output_type": "display_data"
        },
        {
          "data": {
            "text/plain": []
          },
          "execution_count": 7,
          "metadata": {},
          "output_type": "execute_result"
        }
      ],
      "source": [
        "import time\n",
        "import gradio as gr\n",
        "\n",
        "def slow_echo(message, history):\n",
        "    for i in range(len(message)):\n",
        "        time.sleep(0.3)\n",
        "        yield \"You typed: \" + message[: i+1]\n",
        "\n",
        "gr.ChatInterface(slow_echo).launch()"
      ]
    },
    {
      "cell_type": "markdown",
      "metadata": {
        "id": "Sc5TmDo2jzi2"
      },
      "source": [
        "![image.png](data:image/png;base64,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)"
      ]
    },
    {
      "cell_type": "code",
      "execution_count": null,
      "metadata": {
        "colab": {
          "base_uri": "https://localhost:8080/",
          "height": 715
        },
        "id": "QlfK1jrQ2EuQ",
        "outputId": "aff1a2d6-de45-485d-af46-16e7b5f1181d"
      },
      "outputs": [
        {
          "name": "stdout",
          "output_type": "stream",
          "text": [
            "Caching examples at: '/content/gradio_cached_examples/113'\n",
            "Caching example 1/3\n",
            "Caching example 2/3\n",
            "Caching example 3/3\n",
            "Setting queue=True in a Colab notebook requires sharing enabled. Setting `share=True` (you can turn this off by setting `share=False` in `launch()` explicitly).\n",
            "\n",
            "Colab notebook detected. To show errors in colab notebook, set debug=True in launch()\n",
            "Running on public URL: https://221c8be90ee641b372.gradio.live\n",
            "\n",
            "This share link expires in 72 hours. For free permanent hosting and GPU upgrades, run `gradio deploy` from Terminal to deploy to Spaces (https://huggingface.co/spaces)\n"
          ]
        },
        {
          "data": {
            "text/html": [
              "<div><iframe src=\"https://221c8be90ee641b372.gradio.live\" width=\"100%\" height=\"500\" allow=\"autoplay; camera; microphone; clipboard-read; clipboard-write;\" frameborder=\"0\" allowfullscreen></iframe></div>"
            ],
            "text/plain": [
              "<IPython.core.display.HTML object>"
            ]
          },
          "metadata": {},
          "output_type": "display_data"
        },
        {
          "data": {
            "text/plain": []
          },
          "execution_count": 8,
          "metadata": {},
          "output_type": "execute_result"
        }
      ],
      "source": [
        "import gradio as gr\n",
        "\n",
        "def yes_man(message, history):\n",
        "    if message.endswith(\"?\"):\n",
        "        return \"Yes\"\n",
        "    else:\n",
        "        return \"Ask me anything!\"\n",
        "\n",
        "gr.ChatInterface(\n",
        "    yes_man,\n",
        "    chatbot=gr.Chatbot(placeholder=\"<strong>Your Personal Yes-Man</strong><br>Ask Me Anything\"),\n",
        "    textbox=gr.Textbox(placeholder=\"Ask me a yes or no question\", container=False, scale=7),\n",
        "    title=\"Yes Man\",\n",
        "    description=\"Ask Yes Man any question\",\n",
        "    theme=\"soft\",\n",
        "    examples=[\"Hello\", \"Am I cool?\", \"Are tomatoes vegetables?\"],\n",
        "    cache_examples=True,\n",
        "    retry_btn=None,\n",
        "    undo_btn=\"Delete Previous\",\n",
        "    clear_btn=\"Clear\",\n",
        ").launch()"
      ]
    },
    {
      "cell_type": "markdown",
      "metadata": {
        "id": "s-alHhZx7tRi"
      },
      "source": [
        "When multimodal=True, the signature of fn changes slightly. The first parameter of your function should accept a dictionary consisting of the submitted text and uploaded files that looks like this: {\"text\": \"user input\", \"file\": [\"file_path1\", \"file_path2\", ...]}. Similarly, any examples you provide should be in a dictionary of this form. Your function should still return a single str message.\n",
        "\n",
        "\n",
        "Tip:\n",
        " If you'd like to customize the UI/UX of the textbox for your multimodal chatbot, you should pass in an instance of `gr.MultimodalTextbox` to the `textbox` argument of `ChatInterface` instead of an instance of `gr.Textbox"
      ]
    },
    {
      "cell_type": "markdown",
      "metadata": {
        "id": "FWuQSBjQj7ov"
      },
      "source": [
        "![image.png](data:image/png;base64,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)"
      ]
    },
    {
      "cell_type": "code",
      "execution_count": null,
      "metadata": {
        "colab": {
          "base_uri": "https://localhost:8080/",
          "height": 646
        },
        "id": "EarO2kgt2u5a",
        "outputId": "c5f84b09-65a3-414f-fc63-5cf81e2a2985"
      },
      "outputs": [
        {
          "name": "stdout",
          "output_type": "stream",
          "text": [
            "Setting queue=True in a Colab notebook requires sharing enabled. Setting `share=True` (you can turn this off by setting `share=False` in `launch()` explicitly).\n",
            "\n",
            "Colab notebook detected. To show errors in colab notebook, set debug=True in launch()\n",
            "Running on public URL: https://fee0fcf9c08eafe308.gradio.live\n",
            "\n",
            "This share link expires in 72 hours. For free permanent hosting and GPU upgrades, run `gradio deploy` from Terminal to deploy to Spaces (https://huggingface.co/spaces)\n"
          ]
        },
        {
          "data": {
            "text/html": [
              "<div><iframe src=\"https://fee0fcf9c08eafe308.gradio.live\" width=\"100%\" height=\"500\" allow=\"autoplay; camera; microphone; clipboard-read; clipboard-write;\" frameborder=\"0\" allowfullscreen></iframe></div>"
            ],
            "text/plain": [
              "<IPython.core.display.HTML object>"
            ]
          },
          "metadata": {},
          "output_type": "display_data"
        },
        {
          "data": {
            "text/plain": []
          },
          "execution_count": 9,
          "metadata": {},
          "output_type": "execute_result"
        }
      ],
      "source": [
        "import gradio as gr\n",
        "import time\n",
        "\n",
        "def count_files(message, history):\n",
        "    num_files = len(message[\"files\"])\n",
        "    return f\"You uploaded {num_files} files\"\n",
        "\n",
        "demo = gr.ChatInterface(fn=count_files, examples=[{\"text\": \"Hello\", \"files\": []}], title=\"Echo Bot\", multimodal=True)\n",
        "\n",
        "demo.launch()"
      ]
    },
    {
      "cell_type": "markdown",
      "metadata": {
        "id": "rBV-mt1FkDcK"
      },
      "source": [
        "![image.png](/)"
      ]
    },
    {
      "cell_type": "code",
      "execution_count": null,
      "metadata": {
        "colab": {
          "base_uri": "https://localhost:8080/",
          "height": 646
        },
        "id": "bvXAG-sx77W6",
        "outputId": "d377a71f-43f5-4959-8b7c-55f0161601db"
      },
      "outputs": [
        {
          "name": "stdout",
          "output_type": "stream",
          "text": [
            "Setting queue=True in a Colab notebook requires sharing enabled. Setting `share=True` (you can turn this off by setting `share=False` in `launch()` explicitly).\n",
            "\n",
            "Colab notebook detected. To show errors in colab notebook, set debug=True in launch()\n",
            "Running on public URL: https://ad87091107ad1bb573.gradio.live\n",
            "\n",
            "This share link expires in 72 hours. For free permanent hosting and GPU upgrades, run `gradio deploy` from Terminal to deploy to Spaces (https://huggingface.co/spaces)\n"
          ]
        },
        {
          "data": {
            "text/html": [
              "<div><iframe src=\"https://ad87091107ad1bb573.gradio.live\" width=\"100%\" height=\"500\" allow=\"autoplay; camera; microphone; clipboard-read; clipboard-write;\" frameborder=\"0\" allowfullscreen></iframe></div>"
            ],
            "text/plain": [
              "<IPython.core.display.HTML object>"
            ]
          },
          "metadata": {},
          "output_type": "display_data"
        },
        {
          "data": {
            "text/plain": []
          },
          "execution_count": 10,
          "metadata": {},
          "output_type": "execute_result"
        }
      ],
      "source": [
        "import gradio as gr\n",
        "import time\n",
        "\n",
        "def echo(message, history, system_prompt, tokens):\n",
        "    response = f\"System prompt: {system_prompt}\\n Message: {message}.\"\n",
        "    for i in range(min(len(response), int(tokens))):\n",
        "        time.sleep(0.05)\n",
        "        yield response[: i+1]\n",
        "\n",
        "with gr.Blocks() as demo:\n",
        "    system_prompt = gr.Textbox(\"You are helpful AI.\", label=\"System Prompt\")\n",
        "    slider = gr.Slider(10, 100, render=False)\n",
        "\n",
        "    gr.ChatInterface(\n",
        "        echo, additional_inputs=[system_prompt, slider]\n",
        "    )\n",
        "\n",
        "demo.launch()"
      ]
    },
    {
      "cell_type": "markdown",
      "metadata": {
        "id": "_yyoIwzg8rEc"
      },
      "source": [
        "Using Gradio Components inside the Chatbot\n",
        "The Chatbot component supports using many of the core Gradio components (such as gr.Image, gr.Plot, gr.Audio, and gr.HTML) inside of the chatbot. Simply return one of these components from your function to use it with gr.ChatInterface. Here's an example"
      ]
    },
    {
      "cell_type": "markdown",
      "metadata": {
        "id": "mkWI1yO1kL3r"
      },
      "source": [
        "![image.png](data:image/png;base64,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)"
      ]
    },
    {
      "cell_type": "code",
      "execution_count": null,
      "metadata": {
        "colab": {
          "base_uri": "https://localhost:8080/",
          "height": 646
        },
        "id": "CqWYyze28UJZ",
        "outputId": "9dbc200c-9726-4372-ec3e-1a763c12a0fe"
      },
      "outputs": [
        {
          "name": "stdout",
          "output_type": "stream",
          "text": [
            "Setting queue=True in a Colab notebook requires sharing enabled. Setting `share=True` (you can turn this off by setting `share=False` in `launch()` explicitly).\n",
            "\n",
            "Colab notebook detected. To show errors in colab notebook, set debug=True in launch()\n",
            "Running on public URL: https://405747fb1a67f82e09.gradio.live\n",
            "\n",
            "This share link expires in 72 hours. For free permanent hosting and GPU upgrades, run `gradio deploy` from Terminal to deploy to Spaces (https://huggingface.co/spaces)\n"
          ]
        },
        {
          "data": {
            "text/html": [
              "<div><iframe src=\"https://405747fb1a67f82e09.gradio.live\" width=\"100%\" height=\"500\" allow=\"autoplay; camera; microphone; clipboard-read; clipboard-write;\" frameborder=\"0\" allowfullscreen></iframe></div>"
            ],
            "text/plain": [
              "<IPython.core.display.HTML object>"
            ]
          },
          "metadata": {},
          "output_type": "display_data"
        },
        {
          "data": {
            "text/plain": []
          },
          "execution_count": 11,
          "metadata": {},
          "output_type": "execute_result"
        }
      ],
      "source": [
        "import gradio as gr\n",
        "\n",
        "def fake(message, history):\n",
        "    if message.strip():\n",
        "        return gr.Audio(\"https://github.com/gradio-app/gradio/raw/main/test/test_files/audio_sample.wav\")\n",
        "    else:\n",
        "        return \"Please provide the name of an artist\"\n",
        "\n",
        "gr.ChatInterface(\n",
        "    fake,\n",
        "    textbox=gr.Textbox(placeholder=\"Which artist's music do you want to listen to?\", scale=7),\n",
        "    chatbot=gr.Chatbot(placeholder=\"Play music by any artist!\"),\n",
        ").launch()"
      ]
    },
    {
      "cell_type": "code",
      "execution_count": null,
      "metadata": {
        "colab": {
          "base_uri": "https://localhost:8080/",
          "height": 1000,
          "referenced_widgets": [
            "8936001d878a4ee2b69ef86f809141ea",
            "1c9c5a1343a84885b2e55ed4f41fab75",
            "f26466e6ea5845e8a0be8d3f042e4730",
            "c9712476629d457eac52044abcf0917b",
            "bbdfed9f279d4afd9220dd93bd66474e",
            "49716a15a0f143e2b2276e2dd7d86ad5",
            "8df37ca61ec44a24bc15d5b3061f1d3e",
            "786573ba7ab44a049e6ef8634f70d035",
            "60fd16fc7d4e4599a3f931e89501d15b",
            "f293ea25405141949f689522b2bd7284",
            "6875e0f1006c4db18fbd774ebecf345e",
            "e91f6481cacd4990ba5ca7503559cc04",
            "73bce0aa200a4008b581a4f2b3ed453e",
            "27aa053bb6244d08bd1692f5563c3729",
            "fb6a7b52654c4766ab207f15a1479e9a",
            "0bdfe38b8ee24923a96fd196d17d894e",
            "ddaa246285904c0b84a342df1cd641c8",
            "8a8c4bf104cd470f9ed444f99444b76a",
            "b97a17b95f4c4ce0ac9b924cb41583dc",
            "5513f8ad2435486fbc66a3f1f95554e7",
            "183c2b671ddc40a3bb9efd90f3bfb196",
            "cfed3cb654454fc0ab18fa49bbe03169",
            "7c5d25bb53be4c729685996de64ee25d",
            "8f49c176f3da49da85f8abacc91de3e5",
            "1d48f4b699464ec5a618eaaceb05dc6f",
            "a9884011c548491ba8a0b3b5b8f4356e",
            "bbfe750277404f678c34ea41659ca84f",
            "dff665228eaa4b5e8367daff24808b23",
            "d6391228999a43eaabe5e0f85002418b",
            "bf48333e3a774eb1b6e7ec249db019c5",
            "48d940d7104b44238d5277cf2741cd44",
            "dc2b135f156f4d609acaebcc4dfe583c",
            "2de1222053f74026b61d370aa89ccb8e",
            "434a9161570748aea372313ead46a29e",
            "29dff1c28e2b42839507ea8fbe96f6f1",
            "373e1ab6246c41f281eadf4b0ef38b2f",
            "c5933d21c8474f2695ae372d418ef7ef",
            "63f3c5e420ea4b67ab550edc24313765",
            "e108b68507b94274ae493211d5b17294",
            "f6cf01f48e03423788666def78253b49",
            "7b5f5b710c5b474f990afa8ae12abc06",
            "710a6c8decb24cbf9c8f56561d586311",
            "82a165a35e7d4ebf912a185444188db7",
            "55e7d72c0b214b2f90e4097b95c41d4e",
            "082f41f34e34405588b4090256705365",
            "99d0a02f4fe1434da5512411f9ea3f57",
            "8e9b85329ddf482b87d0cc1d9959c4d4",
            "8e86c8a1e527463483583d968fd277bb",
            "30bad05f54e64f13b93b4a3f0af9b47c",
            "1c9d0cde3a1a465fbdd6748af68135d2",
            "381ee29ba813458697b16fd254e30fd4",
            "6eaf3d41b07744059bcea943a9adf390",
            "b2b2472cd1ec4fe6993c9ee964de74e8",
            "8e29230b09c14c58927b8970800e603a",
            "815bc14456ef4418b4add5933cf6dcef",
            "9ee23f2557cc43a1ba2607b235f2eba0",
            "86fff2c9001143058e41789f3acb8090",
            "e5ac2e9556394940ba959e44c035abb5",
            "a5b25615330240eb96610524c8f15a83",
            "8749e0c7dc424c2cb2633371548239d1",
            "3f04f2bbcb2e4ea7978490bf1c720730",
            "4b802b794e91463e81ae9cc9a1aae438",
            "3fc6b0d6f5714ebf9844cd164f92ad12",
            "7dacc507804c49809c3f90b187b71a8f",
            "7593eced3691461b993c30aed0a3860a",
            "77e9fb211ab8449c88b688c6e073247c"
          ]
        },
        "id": "RBDozwPv8obM",
        "outputId": "90a516e9-45ea-42e0-b4e9-49a7205f11e0"
      },
      "outputs": [
        {
          "name": "stderr",
          "output_type": "stream",
          "text": [
            "/usr/local/lib/python3.10/dist-packages/huggingface_hub/utils/_token.py:89: UserWarning: \n",
            "The secret `HF_TOKEN` does not exist in your Colab secrets.\n",
            "To authenticate with the Hugging Face Hub, create a token in your settings tab (https://huggingface.co/settings/tokens), set it as secret in your Google Colab and restart your session.\n",
            "You will be able to reuse this secret in all of your notebooks.\n",
            "Please note that authentication is recommended but still optional to access public models or datasets.\n",
            "  warnings.warn(\n"
          ]
        },
        {
          "data": {
            "application/vnd.jupyter.widget-view+json": {
              "model_id": "8936001d878a4ee2b69ef86f809141ea",
              "version_major": 2,
              "version_minor": 0
            },
            "text/plain": [
              "tokenizer_config.json:   0%|          | 0.00/237 [00:00<?, ?B/s]"
            ]
          },
          "metadata": {},
          "output_type": "display_data"
        },
        {
          "data": {
            "application/vnd.jupyter.widget-view+json": {
              "model_id": "e91f6481cacd4990ba5ca7503559cc04",
              "version_major": 2,
              "version_minor": 0
            },
            "text/plain": [
              "tokenizer.json:   0%|          | 0.00/2.11M [00:00<?, ?B/s]"
            ]
          },
          "metadata": {},
          "output_type": "display_data"
        },
        {
          "data": {
            "application/vnd.jupyter.widget-view+json": {
              "model_id": "7c5d25bb53be4c729685996de64ee25d",
              "version_major": 2,
              "version_minor": 0
            },
            "text/plain": [
              "special_tokens_map.json:   0%|          | 0.00/99.0 [00:00<?, ?B/s]"
            ]
          },
          "metadata": {},
          "output_type": "display_data"
        },
        {
          "data": {
            "application/vnd.jupyter.widget-view+json": {
              "model_id": "434a9161570748aea372313ead46a29e",
              "version_major": 2,
              "version_minor": 0
            },
            "text/plain": [
              "config.json:   0%|          | 0.00/630 [00:00<?, ?B/s]"
            ]
          },
          "metadata": {},
          "output_type": "display_data"
        },
        {
          "data": {
            "application/vnd.jupyter.widget-view+json": {
              "model_id": "082f41f34e34405588b4090256705365",
              "version_major": 2,
              "version_minor": 0
            },
            "text/plain": [
              "pytorch_model.bin:   0%|          | 0.00/5.69G [00:00<?, ?B/s]"
            ]
          },
          "metadata": {},
          "output_type": "display_data"
        },
        {
          "data": {
            "application/vnd.jupyter.widget-view+json": {
              "model_id": "9ee23f2557cc43a1ba2607b235f2eba0",
              "version_major": 2,
              "version_minor": 0
            },
            "text/plain": [
              "generation_config.json:   0%|          | 0.00/111 [00:00<?, ?B/s]"
            ]
          },
          "metadata": {},
          "output_type": "display_data"
        },
        {
          "name": "stdout",
          "output_type": "stream",
          "text": [
            "Setting queue=True in a Colab notebook requires sharing enabled. Setting `share=True` (you can turn this off by setting `share=False` in `launch()` explicitly).\n",
            "\n",
            "Colab notebook detected. This cell will run indefinitely so that you can see errors and logs. To turn off, set debug=False in launch().\n",
            "Running on public URL: https://47b17d327b27e1af7a.gradio.live\n",
            "\n",
            "This share link expires in 72 hours. For free permanent hosting and GPU upgrades, run `gradio deploy` from Terminal to deploy to Spaces (https://huggingface.co/spaces)\n"
          ]
        },
        {
          "data": {
            "text/html": [
              "<div><iframe src=\"https://47b17d327b27e1af7a.gradio.live\" width=\"100%\" height=\"500\" allow=\"autoplay; camera; microphone; clipboard-read; clipboard-write;\" frameborder=\"0\" allowfullscreen></iframe></div>"
            ],
            "text/plain": [
              "<IPython.core.display.HTML object>"
            ]
          },
          "metadata": {},
          "output_type": "display_data"
        },
        {
          "name": "stdout",
          "output_type": "stream",
          "text": [
            "Keyboard interruption in main thread... closing server.\n",
            "Killing tunnel 127.0.0.1:7860 <> https://90ad165c7c7cbc4684.gradio.live\n",
            "Killing tunnel 127.0.0.1:7861 <> https://6553107139444e8a9e.gradio.live\n",
            "Killing tunnel 127.0.0.1:7862 <> https://b9965be9263c493be9.gradio.live\n",
            "Killing tunnel 127.0.0.1:7863 <> https://80c4f114d830862c97.gradio.live\n",
            "Killing tunnel 127.0.0.1:7864 <> https://b88f6007fb27ddb4d4.gradio.live\n",
            "Killing tunnel 127.0.0.1:7865 <> https://2a2cbaa605da1f58e7.gradio.live\n",
            "Killing tunnel 127.0.0.1:7866 <> https://221c8be90ee641b372.gradio.live\n",
            "Killing tunnel 127.0.0.1:7867 <> https://fee0fcf9c08eafe308.gradio.live\n",
            "Killing tunnel 127.0.0.1:7868 <> https://ad87091107ad1bb573.gradio.live\n",
            "Killing tunnel 127.0.0.1:7869 <> https://405747fb1a67f82e09.gradio.live\n",
            "Killing tunnel 127.0.0.1:7870 <> https://47b17d327b27e1af7a.gradio.live\n"
          ]
        },
        {
          "data": {
            "text/plain": []
          },
          "execution_count": 12,
          "metadata": {},
          "output_type": "execute_result"
        }
      ],
      "source": [
        "import gradio as gr\n",
        "import torch\n",
        "from transformers import AutoModelForCausalLM, AutoTokenizer, StoppingCriteria, StoppingCriteriaList, TextIteratorStreamer\n",
        "from threading import Thread\n",
        "\n",
        "tokenizer = AutoTokenizer.from_pretrained(\"togethercomputer/RedPajama-INCITE-Chat-3B-v1\")\n",
        "model = AutoModelForCausalLM.from_pretrained(\"togethercomputer/RedPajama-INCITE-Chat-3B-v1\", torch_dtype=torch.float16)\n",
        "# model = model.to('cuda:0')\n",
        "\n",
        "class StopOnTokens(StoppingCriteria):\n",
        "    def __call__(self, input_ids: torch.LongTensor, scores: torch.FloatTensor, **kwargs) -> bool:\n",
        "        stop_ids = [29, 0]\n",
        "        for stop_id in stop_ids:\n",
        "            if input_ids[0][-1] == stop_id:\n",
        "                return True\n",
        "        return False\n",
        "\n",
        "def predict(message, history):\n",
        "    history_transformer_format = history + [[message, \"\"]]\n",
        "    stop = StopOnTokens()\n",
        "\n",
        "    messages = \"\".join([\"\".join([\"\\n<human>:\"+item[0], \"\\n<bot>:\"+item[1]])\n",
        "                for item in history_transformer_format])\n",
        "\n",
        "    model_inputs = tokenizer([messages], return_tensors=\"pt\").to(\"cuda\")\n",
        "    streamer = TextIteratorStreamer(tokenizer, timeout=10., skip_prompt=True, skip_special_tokens=True)\n",
        "    generate_kwargs = dict(\n",
        "        model_inputs,\n",
        "        streamer=streamer,\n",
        "        max_new_tokens=1024,\n",
        "        do_sample=True,\n",
        "        top_p=0.95,\n",
        "        top_k=1000,\n",
        "        temperature=1.0,\n",
        "        num_beams=1,\n",
        "        stopping_criteria=StoppingCriteriaList([stop])\n",
        "        )\n",
        "    t = Thread(target=model.generate, kwargs=generate_kwargs)\n",
        "    t.start()\n",
        "\n",
        "    partial_message = \"\"\n",
        "    for new_token in streamer:\n",
        "        if new_token != '<':\n",
        "            partial_message += new_token\n",
        "            yield partial_message\n",
        "\n",
        "gr.ChatInterface(predict).launch(debug=True)"
      ]
    },
    {
      "cell_type": "markdown",
      "metadata": {
        "id": "WNFdWta5ke9-"
      },
      "source": [
        "![image.png](data:image/png;base64,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)"
      ]
    },
    {
      "cell_type": "markdown",
      "metadata": {
        "id": "Tqv9N0nakkmG"
      },
      "source": [
        "![image.png](data:image/png;base64,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)"
      ]
    },
    {
      "cell_type": "code",
      "execution_count": null,
      "metadata": {
        "colab": {
          "base_uri": "https://localhost:8080/",
          "height": 646
        },
        "id": "BbQV7e3vBd0m",
        "outputId": "080897df-35bc-4641-ab19-49cc852a1b85"
      },
      "outputs": [
        {
          "name": "stdout",
          "output_type": "stream",
          "text": [
            "Setting queue=True in a Colab notebook requires sharing enabled. Setting `share=True` (you can turn this off by setting `share=False` in `launch()` explicitly).\n",
            "\n",
            "Colab notebook detected. To show errors in colab notebook, set debug=True in launch()\n",
            "Running on public URL: https://e83993cbffe6be0453.gradio.live\n",
            "\n",
            "This share link expires in 72 hours. For free permanent hosting and GPU upgrades, run `gradio deploy` from Terminal to deploy to Spaces (https://huggingface.co/spaces)\n"
          ]
        },
        {
          "data": {
            "text/html": [
              "<div><iframe src=\"https://e83993cbffe6be0453.gradio.live\" width=\"100%\" height=\"500\" allow=\"autoplay; camera; microphone; clipboard-read; clipboard-write;\" frameborder=\"0\" allowfullscreen></iframe></div>"
            ],
            "text/plain": [
              "<IPython.core.display.HTML object>"
            ]
          },
          "metadata": {},
          "output_type": "display_data"
        }
      ],
      "source": [
        "import numpy as np\n",
        "import gradio as gr\n",
        "\n",
        "def flip_text(x):\n",
        "    return x[::-1]\n",
        "\n",
        "def flip_image(x):\n",
        "    return np.fliplr(x)\n",
        "\n",
        "with gr.Blocks() as demo:\n",
        "    gr.Markdown(\"Flip text or image files using this demo.\")\n",
        "    with gr.Tab(\"Flip Text\"):\n",
        "        text_input = gr.Textbox()\n",
        "        text_output = gr.Textbox()\n",
        "        text_button = gr.Button(\"Flip\")\n",
        "    with gr.Tab(\"Flip Image\"):\n",
        "        with gr.Row():\n",
        "            image_input = gr.Image()\n",
        "            image_output = gr.Image()\n",
        "        image_button = gr.Button(\"Flip\")\n",
        "\n",
        "    with gr.Accordion(\"Open for More!\", open=False):\n",
        "        gr.Markdown(\"Look at me...\")\n",
        "        temp_slider = gr.Slider(\n",
        "            0, 1,\n",
        "            value=0.1,\n",
        "            step=0.1,\n",
        "            interactive=True,\n",
        "            label=\"Slide me\",\n",
        "        )\n",
        "\n",
        "    text_button.click(flip_text, inputs=text_input, outputs=text_output)\n",
        "    image_button.click(flip_image, inputs=image_input, outputs=image_output)\n",
        "\n",
        "if __name__ == \"__main__\":\n",
        "    demo.launch()"
      ]
    },
    {
      "cell_type": "code",
      "execution_count": null,
      "metadata": {
        "colab": {
          "base_uri": "https://localhost:8080/",
          "height": 715
        },
        "id": "W74ypF6hD9ij",
        "outputId": "4b48014a-e94a-41d9-d538-72b376225614"
      },
      "outputs": [
        {
          "name": "stderr",
          "output_type": "stream",
          "text": [
            "/usr/local/lib/python3.10/dist-packages/gradio/blocks.py:982: UserWarning: Cannot load compact. Caught Exception: 404 Client Error: Not Found for url: https://huggingface.co/api/spaces/compact (Request ID: Root=1-66e27513-0b088ada1bf96e78687aafa0;e7b111dd-148b-40de-a663-fe345d5dcb02)\n",
            "\n",
            "Sorry, we can't find the page you are looking for.\n",
            "  warnings.warn(f\"Cannot load {theme}. Caught Exception: {str(e)}\")\n"
          ]
        },
        {
          "name": "stdout",
          "output_type": "stream",
          "text": [
            "Setting queue=True in a Colab notebook requires sharing enabled. Setting `share=True` (you can turn this off by setting `share=False` in `launch()` explicitly).\n",
            "\n",
            "Colab notebook detected. To show errors in colab notebook, set debug=True in launch()\n",
            "Running on public URL: https://e60f346ff07ed1fe02.gradio.live\n",
            "\n",
            "This share link expires in 72 hours. For free permanent hosting and GPU upgrades, run `gradio deploy` from Terminal to deploy to Spaces (https://huggingface.co/spaces)\n"
          ]
        },
        {
          "data": {
            "text/html": [
              "<div><iframe src=\"https://e60f346ff07ed1fe02.gradio.live\" width=\"100%\" height=\"500\" allow=\"autoplay; camera; microphone; clipboard-read; clipboard-write;\" frameborder=\"0\" allowfullscreen></iframe></div>"
            ],
            "text/plain": [
              "<IPython.core.display.HTML object>"
            ]
          },
          "metadata": {},
          "output_type": "display_data"
        },
        {
          "data": {
            "text/plain": []
          },
          "execution_count": 18,
          "metadata": {},
          "output_type": "execute_result"
        }
      ],
      "source": [
        "import gradio as gr\n",
        "\n",
        "def chatbot_response(message, history, system_prompt, slider):\n",
        "    # Simple echo response\n",
        "    return f\"You said: {message}\"\n",
        "\n",
        "with gr.Blocks() as demo:\n",
        "    # Define additional inputs\n",
        "    system_prompt = gr.Textbox(\"You are a helpful AI.\", label=\"System Prompt\")\n",
        "    slider = gr.Slider(1, 10, label=\"Response Length\")\n",
        "\n",
        "    # Create the Chat Interface\n",
        "    chat_interface = gr.ChatInterface(\n",
        "        fn=chatbot_response,\n",
        "        additional_inputs=[system_prompt, slider],\n",
        "        title=\"Chatbot Demo\",\n",
        "        description=\"This is a simple chatbot interface.\",\n",
        "        # examples parameter is now a nested list of lists.\n",
        "        # Each sublist corresponds to the inputs of the ChatInterface\n",
        "        examples=[[\"Hello\", \"You are a helpful AI.\", 5], [\"How are you?\", \"You are a helpful and friendly AI.\", 8], [\"Tell me a joke.\", \"You are a funny AI.\", 10]],\n",
        "        theme=\"compact\"\n",
        "    )\n",
        "\n",
        "# Launch the interface\n",
        "demo.launch()"
      ]
    },
    {
      "cell_type": "markdown",
      "metadata": {
        "id": "mj1gGj3tnuEi"
      },
      "source": [
        "### chatbot recieves two inputs as parameter. The input text and history are directly passed with no need to pass them explicitly."
      ]
    },
    {
      "cell_type": "code",
      "execution_count": null,
      "metadata": {
        "id": "OVdQXzJAipOc"
      },
      "outputs": [],
      "source": [
        "import gradio as gr\n",
        "\n",
        "def chatbot(input_text, history):\n",
        "    # Example logic for chatbot response\n",
        "    return f\"You said: {input_text}\"\n",
        "\n",
        "chat_interface = gr.ChatInterface(fn=chatbot, title=\"Simple Chatbot\")\n",
        "chat_interface.launch()\n"
      ]
    },
    {
      "cell_type": "code",
      "execution_count": null,
      "metadata": {
        "id": "YLWlHJ5Gp7x6"
      },
      "outputs": [],
      "source": [
        "import gradio as gr\n",
        "\n",
        "# Predefined variable\n",
        "bot_name = \"EchoBot\"\n",
        "\n",
        "# Function that accepts both user input and a predefined variable\n",
        "def chatbot(input_text, bot_name):\n",
        "    return f\"{bot_name}: You said '{input_text}'\"\n",
        "\n",
        "# Use lambda or a wrapper to pass the additional variable\n",
        "chat_interface = gr.ChatInterface(fn=lambda input_text: chatbot(input_text, bot_name), title=\"Simple Chatbot\")\n",
        "\n",
        "chat_interface.launch()\n"
      ]
    }
  ],
  "metadata": {
    "colab": {
      "provenance": []
    },
    "kernelspec": {
      "display_name": "Python 3",
      "name": "python3"
    },
    "language_info": {
      "name": "python"
    },
    "widgets": {
      "application/vnd.jupyter.widget-state+json": {
        "082f41f34e34405588b4090256705365": {
          "model_module": "@jupyter-widgets/controls",
          "model_module_version": "1.5.0",
          "model_name": "HBoxModel",
          "state": {
            "_dom_classes": [],
            "_model_module": "@jupyter-widgets/controls",
            "_model_module_version": "1.5.0",
            "_model_name": "HBoxModel",
            "_view_count": null,
            "_view_module": "@jupyter-widgets/controls",
            "_view_module_version": "1.5.0",
            "_view_name": "HBoxView",
            "box_style": "",
            "children": [
              "IPY_MODEL_99d0a02f4fe1434da5512411f9ea3f57",
              "IPY_MODEL_8e9b85329ddf482b87d0cc1d9959c4d4",
              "IPY_MODEL_8e86c8a1e527463483583d968fd277bb"
            ],
            "layout": "IPY_MODEL_30bad05f54e64f13b93b4a3f0af9b47c"
          }
        },
        "0bdfe38b8ee24923a96fd196d17d894e": {
          "model_module": "@jupyter-widgets/base",
          "model_module_version": "1.2.0",
          "model_name": "LayoutModel",
          "state": {
            "_model_module": "@jupyter-widgets/base",
            "_model_module_version": "1.2.0",
            "_model_name": "LayoutModel",
            "_view_count": null,
            "_view_module": "@jupyter-widgets/base",
            "_view_module_version": "1.2.0",
            "_view_name": "LayoutView",
            "align_content": null,
            "align_items": null,
            "align_self": null,
            "border": null,
            "bottom": null,
            "display": null,
            "flex": null,
            "flex_flow": null,
            "grid_area": null,
            "grid_auto_columns": null,
            "grid_auto_flow": null,
            "grid_auto_rows": null,
            "grid_column": null,
            "grid_gap": null,
            "grid_row": null,
            "grid_template_areas": null,
            "grid_template_columns": null,
            "grid_template_rows": null,
            "height": null,
            "justify_content": null,
            "justify_items": null,
            "left": null,
            "margin": null,
            "max_height": null,
            "max_width": null,
            "min_height": null,
            "min_width": null,
            "object_fit": null,
            "object_position": null,
            "order": null,
            "overflow": null,
            "overflow_x": null,
            "overflow_y": null,
            "padding": null,
            "right": null,
            "top": null,
            "visibility": null,
            "width": null
          }
        },
        "183c2b671ddc40a3bb9efd90f3bfb196": {
          "model_module": "@jupyter-widgets/base",
          "model_module_version": "1.2.0",
          "model_name": "LayoutModel",
          "state": {
            "_model_module": "@jupyter-widgets/base",
            "_model_module_version": "1.2.0",
            "_model_name": "LayoutModel",
            "_view_count": null,
            "_view_module": "@jupyter-widgets/base",
            "_view_module_version": "1.2.0",
            "_view_name": "LayoutView",
            "align_content": null,
            "align_items": null,
            "align_self": null,
            "border": null,
            "bottom": null,
            "display": null,
            "flex": null,
            "flex_flow": null,
            "grid_area": null,
            "grid_auto_columns": null,
            "grid_auto_flow": null,
            "grid_auto_rows": null,
            "grid_column": null,
            "grid_gap": null,
            "grid_row": null,
            "grid_template_areas": null,
            "grid_template_columns": null,
            "grid_template_rows": null,
            "height": null,
            "justify_content": null,
            "justify_items": null,
            "left": null,
            "margin": null,
            "max_height": null,
            "max_width": null,
            "min_height": null,
            "min_width": null,
            "object_fit": null,
            "object_position": null,
            "order": null,
            "overflow": null,
            "overflow_x": null,
            "overflow_y": null,
            "padding": null,
            "right": null,
            "top": null,
            "visibility": null,
            "width": null
          }
        },
        "1c9c5a1343a84885b2e55ed4f41fab75": {
          "model_module": "@jupyter-widgets/controls",
          "model_module_version": "1.5.0",
          "model_name": "HTMLModel",
          "state": {
            "_dom_classes": [],
            "_model_module": "@jupyter-widgets/controls",
            "_model_module_version": "1.5.0",
            "_model_name": "HTMLModel",
            "_view_count": null,
            "_view_module": "@jupyter-widgets/controls",
            "_view_module_version": "1.5.0",
            "_view_name": "HTMLView",
            "description": "",
            "description_tooltip": null,
            "layout": "IPY_MODEL_49716a15a0f143e2b2276e2dd7d86ad5",
            "placeholder": "​",
            "style": "IPY_MODEL_8df37ca61ec44a24bc15d5b3061f1d3e",
            "value": "tokenizer_config.json: 100%"
          }
        },
        "1c9d0cde3a1a465fbdd6748af68135d2": {
          "model_module": "@jupyter-widgets/base",
          "model_module_version": "1.2.0",
          "model_name": "LayoutModel",
          "state": {
            "_model_module": "@jupyter-widgets/base",
            "_model_module_version": "1.2.0",
            "_model_name": "LayoutModel",
            "_view_count": null,
            "_view_module": "@jupyter-widgets/base",
            "_view_module_version": "1.2.0",
            "_view_name": "LayoutView",
            "align_content": null,
            "align_items": null,
            "align_self": null,
            "border": null,
            "bottom": null,
            "display": null,
            "flex": null,
            "flex_flow": null,
            "grid_area": null,
            "grid_auto_columns": null,
            "grid_auto_flow": null,
            "grid_auto_rows": null,
            "grid_column": null,
            "grid_gap": null,
            "grid_row": null,
            "grid_template_areas": null,
            "grid_template_columns": null,
            "grid_template_rows": null,
            "height": null,
            "justify_content": null,
            "justify_items": null,
            "left": null,
            "margin": null,
            "max_height": null,
            "max_width": null,
            "min_height": null,
            "min_width": null,
            "object_fit": null,
            "object_position": null,
            "order": null,
            "overflow": null,
            "overflow_x": null,
            "overflow_y": null,
            "padding": null,
            "right": null,
            "top": null,
            "visibility": null,
            "width": null
          }
        },
        "1d48f4b699464ec5a618eaaceb05dc6f": {
          "model_module": "@jupyter-widgets/controls",
          "model_module_version": "1.5.0",
          "model_name": "FloatProgressModel",
          "state": {
            "_dom_classes": [],
            "_model_module": "@jupyter-widgets/controls",
            "_model_module_version": "1.5.0",
            "_model_name": "FloatProgressModel",
            "_view_count": null,
            "_view_module": "@jupyter-widgets/controls",
            "_view_module_version": "1.5.0",
            "_view_name": "ProgressView",
            "bar_style": "success",
            "description": "",
            "description_tooltip": null,
            "layout": "IPY_MODEL_bf48333e3a774eb1b6e7ec249db019c5",
            "max": 99,
            "min": 0,
            "orientation": "horizontal",
            "style": "IPY_MODEL_48d940d7104b44238d5277cf2741cd44",
            "value": 99
          }
        },
        "27aa053bb6244d08bd1692f5563c3729": {
          "model_module": "@jupyter-widgets/controls",
          "model_module_version": "1.5.0",
          "model_name": "FloatProgressModel",
          "state": {
            "_dom_classes": [],
            "_model_module": "@jupyter-widgets/controls",
            "_model_module_version": "1.5.0",
            "_model_name": "FloatProgressModel",
            "_view_count": null,
            "_view_module": "@jupyter-widgets/controls",
            "_view_module_version": "1.5.0",
            "_view_name": "ProgressView",
            "bar_style": "success",
            "description": "",
            "description_tooltip": null,
            "layout": "IPY_MODEL_b97a17b95f4c4ce0ac9b924cb41583dc",
            "max": 2113738,
            "min": 0,
            "orientation": "horizontal",
            "style": "IPY_MODEL_5513f8ad2435486fbc66a3f1f95554e7",
            "value": 2113738
          }
        },
        "29dff1c28e2b42839507ea8fbe96f6f1": {
          "model_module": "@jupyter-widgets/controls",
          "model_module_version": "1.5.0",
          "model_name": "HTMLModel",
          "state": {
            "_dom_classes": [],
            "_model_module": "@jupyter-widgets/controls",
            "_model_module_version": "1.5.0",
            "_model_name": "HTMLModel",
            "_view_count": null,
            "_view_module": "@jupyter-widgets/controls",
            "_view_module_version": "1.5.0",
            "_view_name": "HTMLView",
            "description": "",
            "description_tooltip": null,
            "layout": "IPY_MODEL_e108b68507b94274ae493211d5b17294",
            "placeholder": "​",
            "style": "IPY_MODEL_f6cf01f48e03423788666def78253b49",
            "value": "config.json: 100%"
          }
        },
        "2de1222053f74026b61d370aa89ccb8e": {
          "model_module": "@jupyter-widgets/controls",
          "model_module_version": "1.5.0",
          "model_name": "DescriptionStyleModel",
          "state": {
            "_model_module": "@jupyter-widgets/controls",
            "_model_module_version": "1.5.0",
            "_model_name": "DescriptionStyleModel",
            "_view_count": null,
            "_view_module": "@jupyter-widgets/base",
            "_view_module_version": "1.2.0",
            "_view_name": "StyleView",
            "description_width": ""
          }
        },
        "30bad05f54e64f13b93b4a3f0af9b47c": {
          "model_module": "@jupyter-widgets/base",
          "model_module_version": "1.2.0",
          "model_name": "LayoutModel",
          "state": {
            "_model_module": "@jupyter-widgets/base",
            "_model_module_version": "1.2.0",
            "_model_name": "LayoutModel",
            "_view_count": null,
            "_view_module": "@jupyter-widgets/base",
            "_view_module_version": "1.2.0",
            "_view_name": "LayoutView",
            "align_content": null,
            "align_items": null,
            "align_self": null,
            "border": null,
            "bottom": null,
            "display": null,
            "flex": null,
            "flex_flow": null,
            "grid_area": null,
            "grid_auto_columns": null,
            "grid_auto_flow": null,
            "grid_auto_rows": null,
            "grid_column": null,
            "grid_gap": null,
            "grid_row": null,
            "grid_template_areas": null,
            "grid_template_columns": null,
            "grid_template_rows": null,
            "height": null,
            "justify_content": null,
            "justify_items": null,
            "left": null,
            "margin": null,
            "max_height": null,
            "max_width": null,
            "min_height": null,
            "min_width": null,
            "object_fit": null,
            "object_position": null,
            "order": null,
            "overflow": null,
            "overflow_x": null,
            "overflow_y": null,
            "padding": null,
            "right": null,
            "top": null,
            "visibility": null,
            "width": null
          }
        },
        "373e1ab6246c41f281eadf4b0ef38b2f": {
          "model_module": "@jupyter-widgets/controls",
          "model_module_version": "1.5.0",
          "model_name": "FloatProgressModel",
          "state": {
            "_dom_classes": [],
            "_model_module": "@jupyter-widgets/controls",
            "_model_module_version": "1.5.0",
            "_model_name": "FloatProgressModel",
            "_view_count": null,
            "_view_module": "@jupyter-widgets/controls",
            "_view_module_version": "1.5.0",
            "_view_name": "ProgressView",
            "bar_style": "success",
            "description": "",
            "description_tooltip": null,
            "layout": "IPY_MODEL_7b5f5b710c5b474f990afa8ae12abc06",
            "max": 630,
            "min": 0,
            "orientation": "horizontal",
            "style": "IPY_MODEL_710a6c8decb24cbf9c8f56561d586311",
            "value": 630
          }
        },
        "381ee29ba813458697b16fd254e30fd4": {
          "model_module": "@jupyter-widgets/controls",
          "model_module_version": "1.5.0",
          "model_name": "DescriptionStyleModel",
          "state": {
            "_model_module": "@jupyter-widgets/controls",
            "_model_module_version": "1.5.0",
            "_model_name": "DescriptionStyleModel",
            "_view_count": null,
            "_view_module": "@jupyter-widgets/base",
            "_view_module_version": "1.2.0",
            "_view_name": "StyleView",
            "description_width": ""
          }
        },
        "3f04f2bbcb2e4ea7978490bf1c720730": {
          "model_module": "@jupyter-widgets/base",
          "model_module_version": "1.2.0",
          "model_name": "LayoutModel",
          "state": {
            "_model_module": "@jupyter-widgets/base",
            "_model_module_version": "1.2.0",
            "_model_name": "LayoutModel",
            "_view_count": null,
            "_view_module": "@jupyter-widgets/base",
            "_view_module_version": "1.2.0",
            "_view_name": "LayoutView",
            "align_content": null,
            "align_items": null,
            "align_self": null,
            "border": null,
            "bottom": null,
            "display": null,
            "flex": null,
            "flex_flow": null,
            "grid_area": null,
            "grid_auto_columns": null,
            "grid_auto_flow": null,
            "grid_auto_rows": null,
            "grid_column": null,
            "grid_gap": null,
            "grid_row": null,
            "grid_template_areas": null,
            "grid_template_columns": null,
            "grid_template_rows": null,
            "height": null,
            "justify_content": null,
            "justify_items": null,
            "left": null,
            "margin": null,
            "max_height": null,
            "max_width": null,
            "min_height": null,
            "min_width": null,
            "object_fit": null,
            "object_position": null,
            "order": null,
            "overflow": null,
            "overflow_x": null,
            "overflow_y": null,
            "padding": null,
            "right": null,
            "top": null,
            "visibility": null,
            "width": null
          }
        },
        "3fc6b0d6f5714ebf9844cd164f92ad12": {
          "model_module": "@jupyter-widgets/base",
          "model_module_version": "1.2.0",
          "model_name": "LayoutModel",
          "state": {
            "_model_module": "@jupyter-widgets/base",
            "_model_module_version": "1.2.0",
            "_model_name": "LayoutModel",
            "_view_count": null,
            "_view_module": "@jupyter-widgets/base",
            "_view_module_version": "1.2.0",
            "_view_name": "LayoutView",
            "align_content": null,
            "align_items": null,
            "align_self": null,
            "border": null,
            "bottom": null,
            "display": null,
            "flex": null,
            "flex_flow": null,
            "grid_area": null,
            "grid_auto_columns": null,
            "grid_auto_flow": null,
            "grid_auto_rows": null,
            "grid_column": null,
            "grid_gap": null,
            "grid_row": null,
            "grid_template_areas": null,
            "grid_template_columns": null,
            "grid_template_rows": null,
            "height": null,
            "justify_content": null,
            "justify_items": null,
            "left": null,
            "margin": null,
            "max_height": null,
            "max_width": null,
            "min_height": null,
            "min_width": null,
            "object_fit": null,
            "object_position": null,
            "order": null,
            "overflow": null,
            "overflow_x": null,
            "overflow_y": null,
            "padding": null,
            "right": null,
            "top": null,
            "visibility": null,
            "width": null
          }
        },
        "434a9161570748aea372313ead46a29e": {
          "model_module": "@jupyter-widgets/controls",
          "model_module_version": "1.5.0",
          "model_name": "HBoxModel",
          "state": {
            "_dom_classes": [],
            "_model_module": "@jupyter-widgets/controls",
            "_model_module_version": "1.5.0",
            "_model_name": "HBoxModel",
            "_view_count": null,
            "_view_module": "@jupyter-widgets/controls",
            "_view_module_version": "1.5.0",
            "_view_name": "HBoxView",
            "box_style": "",
            "children": [
              "IPY_MODEL_29dff1c28e2b42839507ea8fbe96f6f1",
              "IPY_MODEL_373e1ab6246c41f281eadf4b0ef38b2f",
              "IPY_MODEL_c5933d21c8474f2695ae372d418ef7ef"
            ],
            "layout": "IPY_MODEL_63f3c5e420ea4b67ab550edc24313765"
          }
        },
        "48d940d7104b44238d5277cf2741cd44": {
          "model_module": "@jupyter-widgets/controls",
          "model_module_version": "1.5.0",
          "model_name": "ProgressStyleModel",
          "state": {
            "_model_module": "@jupyter-widgets/controls",
            "_model_module_version": "1.5.0",
            "_model_name": "ProgressStyleModel",
            "_view_count": null,
            "_view_module": "@jupyter-widgets/base",
            "_view_module_version": "1.2.0",
            "_view_name": "StyleView",
            "bar_color": null,
            "description_width": ""
          }
        },
        "49716a15a0f143e2b2276e2dd7d86ad5": {
          "model_module": "@jupyter-widgets/base",
          "model_module_version": "1.2.0",
          "model_name": "LayoutModel",
          "state": {
            "_model_module": "@jupyter-widgets/base",
            "_model_module_version": "1.2.0",
            "_model_name": "LayoutModel",
            "_view_count": null,
            "_view_module": "@jupyter-widgets/base",
            "_view_module_version": "1.2.0",
            "_view_name": "LayoutView",
            "align_content": null,
            "align_items": null,
            "align_self": null,
            "border": null,
            "bottom": null,
            "display": null,
            "flex": null,
            "flex_flow": null,
            "grid_area": null,
            "grid_auto_columns": null,
            "grid_auto_flow": null,
            "grid_auto_rows": null,
            "grid_column": null,
            "grid_gap": null,
            "grid_row": null,
            "grid_template_areas": null,
            "grid_template_columns": null,
            "grid_template_rows": null,
            "height": null,
            "justify_content": null,
            "justify_items": null,
            "left": null,
            "margin": null,
            "max_height": null,
            "max_width": null,
            "min_height": null,
            "min_width": null,
            "object_fit": null,
            "object_position": null,
            "order": null,
            "overflow": null,
            "overflow_x": null,
            "overflow_y": null,
            "padding": null,
            "right": null,
            "top": null,
            "visibility": null,
            "width": null
          }
        },
        "4b802b794e91463e81ae9cc9a1aae438": {
          "model_module": "@jupyter-widgets/controls",
          "model_module_version": "1.5.0",
          "model_name": "DescriptionStyleModel",
          "state": {
            "_model_module": "@jupyter-widgets/controls",
            "_model_module_version": "1.5.0",
            "_model_name": "DescriptionStyleModel",
            "_view_count": null,
            "_view_module": "@jupyter-widgets/base",
            "_view_module_version": "1.2.0",
            "_view_name": "StyleView",
            "description_width": ""
          }
        },
        "5513f8ad2435486fbc66a3f1f95554e7": {
          "model_module": "@jupyter-widgets/controls",
          "model_module_version": "1.5.0",
          "model_name": "ProgressStyleModel",
          "state": {
            "_model_module": "@jupyter-widgets/controls",
            "_model_module_version": "1.5.0",
            "_model_name": "ProgressStyleModel",
            "_view_count": null,
            "_view_module": "@jupyter-widgets/base",
            "_view_module_version": "1.2.0",
            "_view_name": "StyleView",
            "bar_color": null,
            "description_width": ""
          }
        },
        "55e7d72c0b214b2f90e4097b95c41d4e": {
          "model_module": "@jupyter-widgets/controls",
          "model_module_version": "1.5.0",
          "model_name": "DescriptionStyleModel",
          "state": {
            "_model_module": "@jupyter-widgets/controls",
            "_model_module_version": "1.5.0",
            "_model_name": "DescriptionStyleModel",
            "_view_count": null,
            "_view_module": "@jupyter-widgets/base",
            "_view_module_version": "1.2.0",
            "_view_name": "StyleView",
            "description_width": ""
          }
        },
        "60fd16fc7d4e4599a3f931e89501d15b": {
          "model_module": "@jupyter-widgets/controls",
          "model_module_version": "1.5.0",
          "model_name": "ProgressStyleModel",
          "state": {
            "_model_module": "@jupyter-widgets/controls",
            "_model_module_version": "1.5.0",
            "_model_name": "ProgressStyleModel",
            "_view_count": null,
            "_view_module": "@jupyter-widgets/base",
            "_view_module_version": "1.2.0",
            "_view_name": "StyleView",
            "bar_color": null,
            "description_width": ""
          }
        },
        "63f3c5e420ea4b67ab550edc24313765": {
          "model_module": "@jupyter-widgets/base",
          "model_module_version": "1.2.0",
          "model_name": "LayoutModel",
          "state": {
            "_model_module": "@jupyter-widgets/base",
            "_model_module_version": "1.2.0",
            "_model_name": "LayoutModel",
            "_view_count": null,
            "_view_module": "@jupyter-widgets/base",
            "_view_module_version": "1.2.0",
            "_view_name": "LayoutView",
            "align_content": null,
            "align_items": null,
            "align_self": null,
            "border": null,
            "bottom": null,
            "display": null,
            "flex": null,
            "flex_flow": null,
            "grid_area": null,
            "grid_auto_columns": null,
            "grid_auto_flow": null,
            "grid_auto_rows": null,
            "grid_column": null,
            "grid_gap": null,
            "grid_row": null,
            "grid_template_areas": null,
            "grid_template_columns": null,
            "grid_template_rows": null,
            "height": null,
            "justify_content": null,
            "justify_items": null,
            "left": null,
            "margin": null,
            "max_height": null,
            "max_width": null,
            "min_height": null,
            "min_width": null,
            "object_fit": null,
            "object_position": null,
            "order": null,
            "overflow": null,
            "overflow_x": null,
            "overflow_y": null,
            "padding": null,
            "right": null,
            "top": null,
            "visibility": null,
            "width": null
          }
        },
        "6875e0f1006c4db18fbd774ebecf345e": {
          "model_module": "@jupyter-widgets/controls",
          "model_module_version": "1.5.0",
          "model_name": "DescriptionStyleModel",
          "state": {
            "_model_module": "@jupyter-widgets/controls",
            "_model_module_version": "1.5.0",
            "_model_name": "DescriptionStyleModel",
            "_view_count": null,
            "_view_module": "@jupyter-widgets/base",
            "_view_module_version": "1.2.0",
            "_view_name": "StyleView",
            "description_width": ""
          }
        },
        "6eaf3d41b07744059bcea943a9adf390": {
          "model_module": "@jupyter-widgets/base",
          "model_module_version": "1.2.0",
          "model_name": "LayoutModel",
          "state": {
            "_model_module": "@jupyter-widgets/base",
            "_model_module_version": "1.2.0",
            "_model_name": "LayoutModel",
            "_view_count": null,
            "_view_module": "@jupyter-widgets/base",
            "_view_module_version": "1.2.0",
            "_view_name": "LayoutView",
            "align_content": null,
            "align_items": null,
            "align_self": null,
            "border": null,
            "bottom": null,
            "display": null,
            "flex": null,
            "flex_flow": null,
            "grid_area": null,
            "grid_auto_columns": null,
            "grid_auto_flow": null,
            "grid_auto_rows": null,
            "grid_column": null,
            "grid_gap": null,
            "grid_row": null,
            "grid_template_areas": null,
            "grid_template_columns": null,
            "grid_template_rows": null,
            "height": null,
            "justify_content": null,
            "justify_items": null,
            "left": null,
            "margin": null,
            "max_height": null,
            "max_width": null,
            "min_height": null,
            "min_width": null,
            "object_fit": null,
            "object_position": null,
            "order": null,
            "overflow": null,
            "overflow_x": null,
            "overflow_y": null,
            "padding": null,
            "right": null,
            "top": null,
            "visibility": null,
            "width": null
          }
        },
        "710a6c8decb24cbf9c8f56561d586311": {
          "model_module": "@jupyter-widgets/controls",
          "model_module_version": "1.5.0",
          "model_name": "ProgressStyleModel",
          "state": {
            "_model_module": "@jupyter-widgets/controls",
            "_model_module_version": "1.5.0",
            "_model_name": "ProgressStyleModel",
            "_view_count": null,
            "_view_module": "@jupyter-widgets/base",
            "_view_module_version": "1.2.0",
            "_view_name": "StyleView",
            "bar_color": null,
            "description_width": ""
          }
        },
        "73bce0aa200a4008b581a4f2b3ed453e": {
          "model_module": "@jupyter-widgets/controls",
          "model_module_version": "1.5.0",
          "model_name": "HTMLModel",
          "state": {
            "_dom_classes": [],
            "_model_module": "@jupyter-widgets/controls",
            "_model_module_version": "1.5.0",
            "_model_name": "HTMLModel",
            "_view_count": null,
            "_view_module": "@jupyter-widgets/controls",
            "_view_module_version": "1.5.0",
            "_view_name": "HTMLView",
            "description": "",
            "description_tooltip": null,
            "layout": "IPY_MODEL_ddaa246285904c0b84a342df1cd641c8",
            "placeholder": "​",
            "style": "IPY_MODEL_8a8c4bf104cd470f9ed444f99444b76a",
            "value": "tokenizer.json: 100%"
          }
        },
        "7593eced3691461b993c30aed0a3860a": {
          "model_module": "@jupyter-widgets/base",
          "model_module_version": "1.2.0",
          "model_name": "LayoutModel",
          "state": {
            "_model_module": "@jupyter-widgets/base",
            "_model_module_version": "1.2.0",
            "_model_name": "LayoutModel",
            "_view_count": null,
            "_view_module": "@jupyter-widgets/base",
            "_view_module_version": "1.2.0",
            "_view_name": "LayoutView",
            "align_content": null,
            "align_items": null,
            "align_self": null,
            "border": null,
            "bottom": null,
            "display": null,
            "flex": null,
            "flex_flow": null,
            "grid_area": null,
            "grid_auto_columns": null,
            "grid_auto_flow": null,
            "grid_auto_rows": null,
            "grid_column": null,
            "grid_gap": null,
            "grid_row": null,
            "grid_template_areas": null,
            "grid_template_columns": null,
            "grid_template_rows": null,
            "height": null,
            "justify_content": null,
            "justify_items": null,
            "left": null,
            "margin": null,
            "max_height": null,
            "max_width": null,
            "min_height": null,
            "min_width": null,
            "object_fit": null,
            "object_position": null,
            "order": null,
            "overflow": null,
            "overflow_x": null,
            "overflow_y": null,
            "padding": null,
            "right": null,
            "top": null,
            "visibility": null,
            "width": null
          }
        },
        "77e9fb211ab8449c88b688c6e073247c": {
          "model_module": "@jupyter-widgets/controls",
          "model_module_version": "1.5.0",
          "model_name": "DescriptionStyleModel",
          "state": {
            "_model_module": "@jupyter-widgets/controls",
            "_model_module_version": "1.5.0",
            "_model_name": "DescriptionStyleModel",
            "_view_count": null,
            "_view_module": "@jupyter-widgets/base",
            "_view_module_version": "1.2.0",
            "_view_name": "StyleView",
            "description_width": ""
          }
        },
        "786573ba7ab44a049e6ef8634f70d035": {
          "model_module": "@jupyter-widgets/base",
          "model_module_version": "1.2.0",
          "model_name": "LayoutModel",
          "state": {
            "_model_module": "@jupyter-widgets/base",
            "_model_module_version": "1.2.0",
            "_model_name": "LayoutModel",
            "_view_count": null,
            "_view_module": "@jupyter-widgets/base",
            "_view_module_version": "1.2.0",
            "_view_name": "LayoutView",
            "align_content": null,
            "align_items": null,
            "align_self": null,
            "border": null,
            "bottom": null,
            "display": null,
            "flex": null,
            "flex_flow": null,
            "grid_area": null,
            "grid_auto_columns": null,
            "grid_auto_flow": null,
            "grid_auto_rows": null,
            "grid_column": null,
            "grid_gap": null,
            "grid_row": null,
            "grid_template_areas": null,
            "grid_template_columns": null,
            "grid_template_rows": null,
            "height": null,
            "justify_content": null,
            "justify_items": null,
            "left": null,
            "margin": null,
            "max_height": null,
            "max_width": null,
            "min_height": null,
            "min_width": null,
            "object_fit": null,
            "object_position": null,
            "order": null,
            "overflow": null,
            "overflow_x": null,
            "overflow_y": null,
            "padding": null,
            "right": null,
            "top": null,
            "visibility": null,
            "width": null
          }
        },
        "7b5f5b710c5b474f990afa8ae12abc06": {
          "model_module": "@jupyter-widgets/base",
          "model_module_version": "1.2.0",
          "model_name": "LayoutModel",
          "state": {
            "_model_module": "@jupyter-widgets/base",
            "_model_module_version": "1.2.0",
            "_model_name": "LayoutModel",
            "_view_count": null,
            "_view_module": "@jupyter-widgets/base",
            "_view_module_version": "1.2.0",
            "_view_name": "LayoutView",
            "align_content": null,
            "align_items": null,
            "align_self": null,
            "border": null,
            "bottom": null,
            "display": null,
            "flex": null,
            "flex_flow": null,
            "grid_area": null,
            "grid_auto_columns": null,
            "grid_auto_flow": null,
            "grid_auto_rows": null,
            "grid_column": null,
            "grid_gap": null,
            "grid_row": null,
            "grid_template_areas": null,
            "grid_template_columns": null,
            "grid_template_rows": null,
            "height": null,
            "justify_content": null,
            "justify_items": null,
            "left": null,
            "margin": null,
            "max_height": null,
            "max_width": null,
            "min_height": null,
            "min_width": null,
            "object_fit": null,
            "object_position": null,
            "order": null,
            "overflow": null,
            "overflow_x": null,
            "overflow_y": null,
            "padding": null,
            "right": null,
            "top": null,
            "visibility": null,
            "width": null
          }
        },
        "7c5d25bb53be4c729685996de64ee25d": {
          "model_module": "@jupyter-widgets/controls",
          "model_module_version": "1.5.0",
          "model_name": "HBoxModel",
          "state": {
            "_dom_classes": [],
            "_model_module": "@jupyter-widgets/controls",
            "_model_module_version": "1.5.0",
            "_model_name": "HBoxModel",
            "_view_count": null,
            "_view_module": "@jupyter-widgets/controls",
            "_view_module_version": "1.5.0",
            "_view_name": "HBoxView",
            "box_style": "",
            "children": [
              "IPY_MODEL_8f49c176f3da49da85f8abacc91de3e5",
              "IPY_MODEL_1d48f4b699464ec5a618eaaceb05dc6f",
              "IPY_MODEL_a9884011c548491ba8a0b3b5b8f4356e"
            ],
            "layout": "IPY_MODEL_bbfe750277404f678c34ea41659ca84f"
          }
        },
        "7dacc507804c49809c3f90b187b71a8f": {
          "model_module": "@jupyter-widgets/controls",
          "model_module_version": "1.5.0",
          "model_name": "ProgressStyleModel",
          "state": {
            "_model_module": "@jupyter-widgets/controls",
            "_model_module_version": "1.5.0",
            "_model_name": "ProgressStyleModel",
            "_view_count": null,
            "_view_module": "@jupyter-widgets/base",
            "_view_module_version": "1.2.0",
            "_view_name": "StyleView",
            "bar_color": null,
            "description_width": ""
          }
        },
        "815bc14456ef4418b4add5933cf6dcef": {
          "model_module": "@jupyter-widgets/controls",
          "model_module_version": "1.5.0",
          "model_name": "DescriptionStyleModel",
          "state": {
            "_model_module": "@jupyter-widgets/controls",
            "_model_module_version": "1.5.0",
            "_model_name": "DescriptionStyleModel",
            "_view_count": null,
            "_view_module": "@jupyter-widgets/base",
            "_view_module_version": "1.2.0",
            "_view_name": "StyleView",
            "description_width": ""
          }
        },
        "82a165a35e7d4ebf912a185444188db7": {
          "model_module": "@jupyter-widgets/base",
          "model_module_version": "1.2.0",
          "model_name": "LayoutModel",
          "state": {
            "_model_module": "@jupyter-widgets/base",
            "_model_module_version": "1.2.0",
            "_model_name": "LayoutModel",
            "_view_count": null,
            "_view_module": "@jupyter-widgets/base",
            "_view_module_version": "1.2.0",
            "_view_name": "LayoutView",
            "align_content": null,
            "align_items": null,
            "align_self": null,
            "border": null,
            "bottom": null,
            "display": null,
            "flex": null,
            "flex_flow": null,
            "grid_area": null,
            "grid_auto_columns": null,
            "grid_auto_flow": null,
            "grid_auto_rows": null,
            "grid_column": null,
            "grid_gap": null,
            "grid_row": null,
            "grid_template_areas": null,
            "grid_template_columns": null,
            "grid_template_rows": null,
            "height": null,
            "justify_content": null,
            "justify_items": null,
            "left": null,
            "margin": null,
            "max_height": null,
            "max_width": null,
            "min_height": null,
            "min_width": null,
            "object_fit": null,
            "object_position": null,
            "order": null,
            "overflow": null,
            "overflow_x": null,
            "overflow_y": null,
            "padding": null,
            "right": null,
            "top": null,
            "visibility": null,
            "width": null
          }
        },
        "86fff2c9001143058e41789f3acb8090": {
          "model_module": "@jupyter-widgets/controls",
          "model_module_version": "1.5.0",
          "model_name": "HTMLModel",
          "state": {
            "_dom_classes": [],
            "_model_module": "@jupyter-widgets/controls",
            "_model_module_version": "1.5.0",
            "_model_name": "HTMLModel",
            "_view_count": null,
            "_view_module": "@jupyter-widgets/controls",
            "_view_module_version": "1.5.0",
            "_view_name": "HTMLView",
            "description": "",
            "description_tooltip": null,
            "layout": "IPY_MODEL_3f04f2bbcb2e4ea7978490bf1c720730",
            "placeholder": "​",
            "style": "IPY_MODEL_4b802b794e91463e81ae9cc9a1aae438",
            "value": "generation_config.json: 100%"
          }
        },
        "8749e0c7dc424c2cb2633371548239d1": {
          "model_module": "@jupyter-widgets/base",
          "model_module_version": "1.2.0",
          "model_name": "LayoutModel",
          "state": {
            "_model_module": "@jupyter-widgets/base",
            "_model_module_version": "1.2.0",
            "_model_name": "LayoutModel",
            "_view_count": null,
            "_view_module": "@jupyter-widgets/base",
            "_view_module_version": "1.2.0",
            "_view_name": "LayoutView",
            "align_content": null,
            "align_items": null,
            "align_self": null,
            "border": null,
            "bottom": null,
            "display": null,
            "flex": null,
            "flex_flow": null,
            "grid_area": null,
            "grid_auto_columns": null,
            "grid_auto_flow": null,
            "grid_auto_rows": null,
            "grid_column": null,
            "grid_gap": null,
            "grid_row": null,
            "grid_template_areas": null,
            "grid_template_columns": null,
            "grid_template_rows": null,
            "height": null,
            "justify_content": null,
            "justify_items": null,
            "left": null,
            "margin": null,
            "max_height": null,
            "max_width": null,
            "min_height": null,
            "min_width": null,
            "object_fit": null,
            "object_position": null,
            "order": null,
            "overflow": null,
            "overflow_x": null,
            "overflow_y": null,
            "padding": null,
            "right": null,
            "top": null,
            "visibility": null,
            "width": null
          }
        },
        "8936001d878a4ee2b69ef86f809141ea": {
          "model_module": "@jupyter-widgets/controls",
          "model_module_version": "1.5.0",
          "model_name": "HBoxModel",
          "state": {
            "_dom_classes": [],
            "_model_module": "@jupyter-widgets/controls",
            "_model_module_version": "1.5.0",
            "_model_name": "HBoxModel",
            "_view_count": null,
            "_view_module": "@jupyter-widgets/controls",
            "_view_module_version": "1.5.0",
            "_view_name": "HBoxView",
            "box_style": "",
            "children": [
              "IPY_MODEL_1c9c5a1343a84885b2e55ed4f41fab75",
              "IPY_MODEL_f26466e6ea5845e8a0be8d3f042e4730",
              "IPY_MODEL_c9712476629d457eac52044abcf0917b"
            ],
            "layout": "IPY_MODEL_bbdfed9f279d4afd9220dd93bd66474e"
          }
        },
        "8a8c4bf104cd470f9ed444f99444b76a": {
          "model_module": "@jupyter-widgets/controls",
          "model_module_version": "1.5.0",
          "model_name": "DescriptionStyleModel",
          "state": {
            "_model_module": "@jupyter-widgets/controls",
            "_model_module_version": "1.5.0",
            "_model_name": "DescriptionStyleModel",
            "_view_count": null,
            "_view_module": "@jupyter-widgets/base",
            "_view_module_version": "1.2.0",
            "_view_name": "StyleView",
            "description_width": ""
          }
        },
        "8df37ca61ec44a24bc15d5b3061f1d3e": {
          "model_module": "@jupyter-widgets/controls",
          "model_module_version": "1.5.0",
          "model_name": "DescriptionStyleModel",
          "state": {
            "_model_module": "@jupyter-widgets/controls",
            "_model_module_version": "1.5.0",
            "_model_name": "DescriptionStyleModel",
            "_view_count": null,
            "_view_module": "@jupyter-widgets/base",
            "_view_module_version": "1.2.0",
            "_view_name": "StyleView",
            "description_width": ""
          }
        },
        "8e29230b09c14c58927b8970800e603a": {
          "model_module": "@jupyter-widgets/base",
          "model_module_version": "1.2.0",
          "model_name": "LayoutModel",
          "state": {
            "_model_module": "@jupyter-widgets/base",
            "_model_module_version": "1.2.0",
            "_model_name": "LayoutModel",
            "_view_count": null,
            "_view_module": "@jupyter-widgets/base",
            "_view_module_version": "1.2.0",
            "_view_name": "LayoutView",
            "align_content": null,
            "align_items": null,
            "align_self": null,
            "border": null,
            "bottom": null,
            "display": null,
            "flex": null,
            "flex_flow": null,
            "grid_area": null,
            "grid_auto_columns": null,
            "grid_auto_flow": null,
            "grid_auto_rows": null,
            "grid_column": null,
            "grid_gap": null,
            "grid_row": null,
            "grid_template_areas": null,
            "grid_template_columns": null,
            "grid_template_rows": null,
            "height": null,
            "justify_content": null,
            "justify_items": null,
            "left": null,
            "margin": null,
            "max_height": null,
            "max_width": null,
            "min_height": null,
            "min_width": null,
            "object_fit": null,
            "object_position": null,
            "order": null,
            "overflow": null,
            "overflow_x": null,
            "overflow_y": null,
            "padding": null,
            "right": null,
            "top": null,
            "visibility": null,
            "width": null
          }
        },
        "8e86c8a1e527463483583d968fd277bb": {
          "model_module": "@jupyter-widgets/controls",
          "model_module_version": "1.5.0",
          "model_name": "HTMLModel",
          "state": {
            "_dom_classes": [],
            "_model_module": "@jupyter-widgets/controls",
            "_model_module_version": "1.5.0",
            "_model_name": "HTMLModel",
            "_view_count": null,
            "_view_module": "@jupyter-widgets/controls",
            "_view_module_version": "1.5.0",
            "_view_name": "HTMLView",
            "description": "",
            "description_tooltip": null,
            "layout": "IPY_MODEL_8e29230b09c14c58927b8970800e603a",
            "placeholder": "​",
            "style": "IPY_MODEL_815bc14456ef4418b4add5933cf6dcef",
            "value": " 5.69G/5.69G [00:56&lt;00:00, 127MB/s]"
          }
        },
        "8e9b85329ddf482b87d0cc1d9959c4d4": {
          "model_module": "@jupyter-widgets/controls",
          "model_module_version": "1.5.0",
          "model_name": "FloatProgressModel",
          "state": {
            "_dom_classes": [],
            "_model_module": "@jupyter-widgets/controls",
            "_model_module_version": "1.5.0",
            "_model_name": "FloatProgressModel",
            "_view_count": null,
            "_view_module": "@jupyter-widgets/controls",
            "_view_module_version": "1.5.0",
            "_view_name": "ProgressView",
            "bar_style": "success",
            "description": "",
            "description_tooltip": null,
            "layout": "IPY_MODEL_6eaf3d41b07744059bcea943a9adf390",
            "max": 5686106713,
            "min": 0,
            "orientation": "horizontal",
            "style": "IPY_MODEL_b2b2472cd1ec4fe6993c9ee964de74e8",
            "value": 5686106713
          }
        },
        "8f49c176f3da49da85f8abacc91de3e5": {
          "model_module": "@jupyter-widgets/controls",
          "model_module_version": "1.5.0",
          "model_name": "HTMLModel",
          "state": {
            "_dom_classes": [],
            "_model_module": "@jupyter-widgets/controls",
            "_model_module_version": "1.5.0",
            "_model_name": "HTMLModel",
            "_view_count": null,
            "_view_module": "@jupyter-widgets/controls",
            "_view_module_version": "1.5.0",
            "_view_name": "HTMLView",
            "description": "",
            "description_tooltip": null,
            "layout": "IPY_MODEL_dff665228eaa4b5e8367daff24808b23",
            "placeholder": "​",
            "style": "IPY_MODEL_d6391228999a43eaabe5e0f85002418b",
            "value": "special_tokens_map.json: 100%"
          }
        },
        "99d0a02f4fe1434da5512411f9ea3f57": {
          "model_module": "@jupyter-widgets/controls",
          "model_module_version": "1.5.0",
          "model_name": "HTMLModel",
          "state": {
            "_dom_classes": [],
            "_model_module": "@jupyter-widgets/controls",
            "_model_module_version": "1.5.0",
            "_model_name": "HTMLModel",
            "_view_count": null,
            "_view_module": "@jupyter-widgets/controls",
            "_view_module_version": "1.5.0",
            "_view_name": "HTMLView",
            "description": "",
            "description_tooltip": null,
            "layout": "IPY_MODEL_1c9d0cde3a1a465fbdd6748af68135d2",
            "placeholder": "​",
            "style": "IPY_MODEL_381ee29ba813458697b16fd254e30fd4",
            "value": "pytorch_model.bin: 100%"
          }
        },
        "9ee23f2557cc43a1ba2607b235f2eba0": {
          "model_module": "@jupyter-widgets/controls",
          "model_module_version": "1.5.0",
          "model_name": "HBoxModel",
          "state": {
            "_dom_classes": [],
            "_model_module": "@jupyter-widgets/controls",
            "_model_module_version": "1.5.0",
            "_model_name": "HBoxModel",
            "_view_count": null,
            "_view_module": "@jupyter-widgets/controls",
            "_view_module_version": "1.5.0",
            "_view_name": "HBoxView",
            "box_style": "",
            "children": [
              "IPY_MODEL_86fff2c9001143058e41789f3acb8090",
              "IPY_MODEL_e5ac2e9556394940ba959e44c035abb5",
              "IPY_MODEL_a5b25615330240eb96610524c8f15a83"
            ],
            "layout": "IPY_MODEL_8749e0c7dc424c2cb2633371548239d1"
          }
        },
        "a5b25615330240eb96610524c8f15a83": {
          "model_module": "@jupyter-widgets/controls",
          "model_module_version": "1.5.0",
          "model_name": "HTMLModel",
          "state": {
            "_dom_classes": [],
            "_model_module": "@jupyter-widgets/controls",
            "_model_module_version": "1.5.0",
            "_model_name": "HTMLModel",
            "_view_count": null,
            "_view_module": "@jupyter-widgets/controls",
            "_view_module_version": "1.5.0",
            "_view_name": "HTMLView",
            "description": "",
            "description_tooltip": null,
            "layout": "IPY_MODEL_7593eced3691461b993c30aed0a3860a",
            "placeholder": "​",
            "style": "IPY_MODEL_77e9fb211ab8449c88b688c6e073247c",
            "value": " 111/111 [00:00&lt;00:00, 4.44kB/s]"
          }
        },
        "a9884011c548491ba8a0b3b5b8f4356e": {
          "model_module": "@jupyter-widgets/controls",
          "model_module_version": "1.5.0",
          "model_name": "HTMLModel",
          "state": {
            "_dom_classes": [],
            "_model_module": "@jupyter-widgets/controls",
            "_model_module_version": "1.5.0",
            "_model_name": "HTMLModel",
            "_view_count": null,
            "_view_module": "@jupyter-widgets/controls",
            "_view_module_version": "1.5.0",
            "_view_name": "HTMLView",
            "description": "",
            "description_tooltip": null,
            "layout": "IPY_MODEL_dc2b135f156f4d609acaebcc4dfe583c",
            "placeholder": "​",
            "style": "IPY_MODEL_2de1222053f74026b61d370aa89ccb8e",
            "value": " 99.0/99.0 [00:00&lt;00:00, 3.44kB/s]"
          }
        },
        "b2b2472cd1ec4fe6993c9ee964de74e8": {
          "model_module": "@jupyter-widgets/controls",
          "model_module_version": "1.5.0",
          "model_name": "ProgressStyleModel",
          "state": {
            "_model_module": "@jupyter-widgets/controls",
            "_model_module_version": "1.5.0",
            "_model_name": "ProgressStyleModel",
            "_view_count": null,
            "_view_module": "@jupyter-widgets/base",
            "_view_module_version": "1.2.0",
            "_view_name": "StyleView",
            "bar_color": null,
            "description_width": ""
          }
        },
        "b97a17b95f4c4ce0ac9b924cb41583dc": {
          "model_module": "@jupyter-widgets/base",
          "model_module_version": "1.2.0",
          "model_name": "LayoutModel",
          "state": {
            "_model_module": "@jupyter-widgets/base",
            "_model_module_version": "1.2.0",
            "_model_name": "LayoutModel",
            "_view_count": null,
            "_view_module": "@jupyter-widgets/base",
            "_view_module_version": "1.2.0",
            "_view_name": "LayoutView",
            "align_content": null,
            "align_items": null,
            "align_self": null,
            "border": null,
            "bottom": null,
            "display": null,
            "flex": null,
            "flex_flow": null,
            "grid_area": null,
            "grid_auto_columns": null,
            "grid_auto_flow": null,
            "grid_auto_rows": null,
            "grid_column": null,
            "grid_gap": null,
            "grid_row": null,
            "grid_template_areas": null,
            "grid_template_columns": null,
            "grid_template_rows": null,
            "height": null,
            "justify_content": null,
            "justify_items": null,
            "left": null,
            "margin": null,
            "max_height": null,
            "max_width": null,
            "min_height": null,
            "min_width": null,
            "object_fit": null,
            "object_position": null,
            "order": null,
            "overflow": null,
            "overflow_x": null,
            "overflow_y": null,
            "padding": null,
            "right": null,
            "top": null,
            "visibility": null,
            "width": null
          }
        },
        "bbdfed9f279d4afd9220dd93bd66474e": {
          "model_module": "@jupyter-widgets/base",
          "model_module_version": "1.2.0",
          "model_name": "LayoutModel",
          "state": {
            "_model_module": "@jupyter-widgets/base",
            "_model_module_version": "1.2.0",
            "_model_name": "LayoutModel",
            "_view_count": null,
            "_view_module": "@jupyter-widgets/base",
            "_view_module_version": "1.2.0",
            "_view_name": "LayoutView",
            "align_content": null,
            "align_items": null,
            "align_self": null,
            "border": null,
            "bottom": null,
            "display": null,
            "flex": null,
            "flex_flow": null,
            "grid_area": null,
            "grid_auto_columns": null,
            "grid_auto_flow": null,
            "grid_auto_rows": null,
            "grid_column": null,
            "grid_gap": null,
            "grid_row": null,
            "grid_template_areas": null,
            "grid_template_columns": null,
            "grid_template_rows": null,
            "height": null,
            "justify_content": null,
            "justify_items": null,
            "left": null,
            "margin": null,
            "max_height": null,
            "max_width": null,
            "min_height": null,
            "min_width": null,
            "object_fit": null,
            "object_position": null,
            "order": null,
            "overflow": null,
            "overflow_x": null,
            "overflow_y": null,
            "padding": null,
            "right": null,
            "top": null,
            "visibility": null,
            "width": null
          }
        },
        "bbfe750277404f678c34ea41659ca84f": {
          "model_module": "@jupyter-widgets/base",
          "model_module_version": "1.2.0",
          "model_name": "LayoutModel",
          "state": {
            "_model_module": "@jupyter-widgets/base",
            "_model_module_version": "1.2.0",
            "_model_name": "LayoutModel",
            "_view_count": null,
            "_view_module": "@jupyter-widgets/base",
            "_view_module_version": "1.2.0",
            "_view_name": "LayoutView",
            "align_content": null,
            "align_items": null,
            "align_self": null,
            "border": null,
            "bottom": null,
            "display": null,
            "flex": null,
            "flex_flow": null,
            "grid_area": null,
            "grid_auto_columns": null,
            "grid_auto_flow": null,
            "grid_auto_rows": null,
            "grid_column": null,
            "grid_gap": null,
            "grid_row": null,
            "grid_template_areas": null,
            "grid_template_columns": null,
            "grid_template_rows": null,
            "height": null,
            "justify_content": null,
            "justify_items": null,
            "left": null,
            "margin": null,
            "max_height": null,
            "max_width": null,
            "min_height": null,
            "min_width": null,
            "object_fit": null,
            "object_position": null,
            "order": null,
            "overflow": null,
            "overflow_x": null,
            "overflow_y": null,
            "padding": null,
            "right": null,
            "top": null,
            "visibility": null,
            "width": null
          }
        },
        "bf48333e3a774eb1b6e7ec249db019c5": {
          "model_module": "@jupyter-widgets/base",
          "model_module_version": "1.2.0",
          "model_name": "LayoutModel",
          "state": {
            "_model_module": "@jupyter-widgets/base",
            "_model_module_version": "1.2.0",
            "_model_name": "LayoutModel",
            "_view_count": null,
            "_view_module": "@jupyter-widgets/base",
            "_view_module_version": "1.2.0",
            "_view_name": "LayoutView",
            "align_content": null,
            "align_items": null,
            "align_self": null,
            "border": null,
            "bottom": null,
            "display": null,
            "flex": null,
            "flex_flow": null,
            "grid_area": null,
            "grid_auto_columns": null,
            "grid_auto_flow": null,
            "grid_auto_rows": null,
            "grid_column": null,
            "grid_gap": null,
            "grid_row": null,
            "grid_template_areas": null,
            "grid_template_columns": null,
            "grid_template_rows": null,
            "height": null,
            "justify_content": null,
            "justify_items": null,
            "left": null,
            "margin": null,
            "max_height": null,
            "max_width": null,
            "min_height": null,
            "min_width": null,
            "object_fit": null,
            "object_position": null,
            "order": null,
            "overflow": null,
            "overflow_x": null,
            "overflow_y": null,
            "padding": null,
            "right": null,
            "top": null,
            "visibility": null,
            "width": null
          }
        },
        "c5933d21c8474f2695ae372d418ef7ef": {
          "model_module": "@jupyter-widgets/controls",
          "model_module_version": "1.5.0",
          "model_name": "HTMLModel",
          "state": {
            "_dom_classes": [],
            "_model_module": "@jupyter-widgets/controls",
            "_model_module_version": "1.5.0",
            "_model_name": "HTMLModel",
            "_view_count": null,
            "_view_module": "@jupyter-widgets/controls",
            "_view_module_version": "1.5.0",
            "_view_name": "HTMLView",
            "description": "",
            "description_tooltip": null,
            "layout": "IPY_MODEL_82a165a35e7d4ebf912a185444188db7",
            "placeholder": "​",
            "style": "IPY_MODEL_55e7d72c0b214b2f90e4097b95c41d4e",
            "value": " 630/630 [00:00&lt;00:00, 20.6kB/s]"
          }
        },
        "c9712476629d457eac52044abcf0917b": {
          "model_module": "@jupyter-widgets/controls",
          "model_module_version": "1.5.0",
          "model_name": "HTMLModel",
          "state": {
            "_dom_classes": [],
            "_model_module": "@jupyter-widgets/controls",
            "_model_module_version": "1.5.0",
            "_model_name": "HTMLModel",
            "_view_count": null,
            "_view_module": "@jupyter-widgets/controls",
            "_view_module_version": "1.5.0",
            "_view_name": "HTMLView",
            "description": "",
            "description_tooltip": null,
            "layout": "IPY_MODEL_f293ea25405141949f689522b2bd7284",
            "placeholder": "​",
            "style": "IPY_MODEL_6875e0f1006c4db18fbd774ebecf345e",
            "value": " 237/237 [00:00&lt;00:00, 7.11kB/s]"
          }
        },
        "cfed3cb654454fc0ab18fa49bbe03169": {
          "model_module": "@jupyter-widgets/controls",
          "model_module_version": "1.5.0",
          "model_name": "DescriptionStyleModel",
          "state": {
            "_model_module": "@jupyter-widgets/controls",
            "_model_module_version": "1.5.0",
            "_model_name": "DescriptionStyleModel",
            "_view_count": null,
            "_view_module": "@jupyter-widgets/base",
            "_view_module_version": "1.2.0",
            "_view_name": "StyleView",
            "description_width": ""
          }
        },
        "d6391228999a43eaabe5e0f85002418b": {
          "model_module": "@jupyter-widgets/controls",
          "model_module_version": "1.5.0",
          "model_name": "DescriptionStyleModel",
          "state": {
            "_model_module": "@jupyter-widgets/controls",
            "_model_module_version": "1.5.0",
            "_model_name": "DescriptionStyleModel",
            "_view_count": null,
            "_view_module": "@jupyter-widgets/base",
            "_view_module_version": "1.2.0",
            "_view_name": "StyleView",
            "description_width": ""
          }
        },
        "dc2b135f156f4d609acaebcc4dfe583c": {
          "model_module": "@jupyter-widgets/base",
          "model_module_version": "1.2.0",
          "model_name": "LayoutModel",
          "state": {
            "_model_module": "@jupyter-widgets/base",
            "_model_module_version": "1.2.0",
            "_model_name": "LayoutModel",
            "_view_count": null,
            "_view_module": "@jupyter-widgets/base",
            "_view_module_version": "1.2.0",
            "_view_name": "LayoutView",
            "align_content": null,
            "align_items": null,
            "align_self": null,
            "border": null,
            "bottom": null,
            "display": null,
            "flex": null,
            "flex_flow": null,
            "grid_area": null,
            "grid_auto_columns": null,
            "grid_auto_flow": null,
            "grid_auto_rows": null,
            "grid_column": null,
            "grid_gap": null,
            "grid_row": null,
            "grid_template_areas": null,
            "grid_template_columns": null,
            "grid_template_rows": null,
            "height": null,
            "justify_content": null,
            "justify_items": null,
            "left": null,
            "margin": null,
            "max_height": null,
            "max_width": null,
            "min_height": null,
            "min_width": null,
            "object_fit": null,
            "object_position": null,
            "order": null,
            "overflow": null,
            "overflow_x": null,
            "overflow_y": null,
            "padding": null,
            "right": null,
            "top": null,
            "visibility": null,
            "width": null
          }
        },
        "ddaa246285904c0b84a342df1cd641c8": {
          "model_module": "@jupyter-widgets/base",
          "model_module_version": "1.2.0",
          "model_name": "LayoutModel",
          "state": {
            "_model_module": "@jupyter-widgets/base",
            "_model_module_version": "1.2.0",
            "_model_name": "LayoutModel",
            "_view_count": null,
            "_view_module": "@jupyter-widgets/base",
            "_view_module_version": "1.2.0",
            "_view_name": "LayoutView",
            "align_content": null,
            "align_items": null,
            "align_self": null,
            "border": null,
            "bottom": null,
            "display": null,
            "flex": null,
            "flex_flow": null,
            "grid_area": null,
            "grid_auto_columns": null,
            "grid_auto_flow": null,
            "grid_auto_rows": null,
            "grid_column": null,
            "grid_gap": null,
            "grid_row": null,
            "grid_template_areas": null,
            "grid_template_columns": null,
            "grid_template_rows": null,
            "height": null,
            "justify_content": null,
            "justify_items": null,
            "left": null,
            "margin": null,
            "max_height": null,
            "max_width": null,
            "min_height": null,
            "min_width": null,
            "object_fit": null,
            "object_position": null,
            "order": null,
            "overflow": null,
            "overflow_x": null,
            "overflow_y": null,
            "padding": null,
            "right": null,
            "top": null,
            "visibility": null,
            "width": null
          }
        },
        "dff665228eaa4b5e8367daff24808b23": {
          "model_module": "@jupyter-widgets/base",
          "model_module_version": "1.2.0",
          "model_name": "LayoutModel",
          "state": {
            "_model_module": "@jupyter-widgets/base",
            "_model_module_version": "1.2.0",
            "_model_name": "LayoutModel",
            "_view_count": null,
            "_view_module": "@jupyter-widgets/base",
            "_view_module_version": "1.2.0",
            "_view_name": "LayoutView",
            "align_content": null,
            "align_items": null,
            "align_self": null,
            "border": null,
            "bottom": null,
            "display": null,
            "flex": null,
            "flex_flow": null,
            "grid_area": null,
            "grid_auto_columns": null,
            "grid_auto_flow": null,
            "grid_auto_rows": null,
            "grid_column": null,
            "grid_gap": null,
            "grid_row": null,
            "grid_template_areas": null,
            "grid_template_columns": null,
            "grid_template_rows": null,
            "height": null,
            "justify_content": null,
            "justify_items": null,
            "left": null,
            "margin": null,
            "max_height": null,
            "max_width": null,
            "min_height": null,
            "min_width": null,
            "object_fit": null,
            "object_position": null,
            "order": null,
            "overflow": null,
            "overflow_x": null,
            "overflow_y": null,
            "padding": null,
            "right": null,
            "top": null,
            "visibility": null,
            "width": null
          }
        },
        "e108b68507b94274ae493211d5b17294": {
          "model_module": "@jupyter-widgets/base",
          "model_module_version": "1.2.0",
          "model_name": "LayoutModel",
          "state": {
            "_model_module": "@jupyter-widgets/base",
            "_model_module_version": "1.2.0",
            "_model_name": "LayoutModel",
            "_view_count": null,
            "_view_module": "@jupyter-widgets/base",
            "_view_module_version": "1.2.0",
            "_view_name": "LayoutView",
            "align_content": null,
            "align_items": null,
            "align_self": null,
            "border": null,
            "bottom": null,
            "display": null,
            "flex": null,
            "flex_flow": null,
            "grid_area": null,
            "grid_auto_columns": null,
            "grid_auto_flow": null,
            "grid_auto_rows": null,
            "grid_column": null,
            "grid_gap": null,
            "grid_row": null,
            "grid_template_areas": null,
            "grid_template_columns": null,
            "grid_template_rows": null,
            "height": null,
            "justify_content": null,
            "justify_items": null,
            "left": null,
            "margin": null,
            "max_height": null,
            "max_width": null,
            "min_height": null,
            "min_width": null,
            "object_fit": null,
            "object_position": null,
            "order": null,
            "overflow": null,
            "overflow_x": null,
            "overflow_y": null,
            "padding": null,
            "right": null,
            "top": null,
            "visibility": null,
            "width": null
          }
        },
        "e5ac2e9556394940ba959e44c035abb5": {
          "model_module": "@jupyter-widgets/controls",
          "model_module_version": "1.5.0",
          "model_name": "FloatProgressModel",
          "state": {
            "_dom_classes": [],
            "_model_module": "@jupyter-widgets/controls",
            "_model_module_version": "1.5.0",
            "_model_name": "FloatProgressModel",
            "_view_count": null,
            "_view_module": "@jupyter-widgets/controls",
            "_view_module_version": "1.5.0",
            "_view_name": "ProgressView",
            "bar_style": "success",
            "description": "",
            "description_tooltip": null,
            "layout": "IPY_MODEL_3fc6b0d6f5714ebf9844cd164f92ad12",
            "max": 111,
            "min": 0,
            "orientation": "horizontal",
            "style": "IPY_MODEL_7dacc507804c49809c3f90b187b71a8f",
            "value": 111
          }
        },
        "e91f6481cacd4990ba5ca7503559cc04": {
          "model_module": "@jupyter-widgets/controls",
          "model_module_version": "1.5.0",
          "model_name": "HBoxModel",
          "state": {
            "_dom_classes": [],
            "_model_module": "@jupyter-widgets/controls",
            "_model_module_version": "1.5.0",
            "_model_name": "HBoxModel",
            "_view_count": null,
            "_view_module": "@jupyter-widgets/controls",
            "_view_module_version": "1.5.0",
            "_view_name": "HBoxView",
            "box_style": "",
            "children": [
              "IPY_MODEL_73bce0aa200a4008b581a4f2b3ed453e",
              "IPY_MODEL_27aa053bb6244d08bd1692f5563c3729",
              "IPY_MODEL_fb6a7b52654c4766ab207f15a1479e9a"
            ],
            "layout": "IPY_MODEL_0bdfe38b8ee24923a96fd196d17d894e"
          }
        },
        "f26466e6ea5845e8a0be8d3f042e4730": {
          "model_module": "@jupyter-widgets/controls",
          "model_module_version": "1.5.0",
          "model_name": "FloatProgressModel",
          "state": {
            "_dom_classes": [],
            "_model_module": "@jupyter-widgets/controls",
            "_model_module_version": "1.5.0",
            "_model_name": "FloatProgressModel",
            "_view_count": null,
            "_view_module": "@jupyter-widgets/controls",
            "_view_module_version": "1.5.0",
            "_view_name": "ProgressView",
            "bar_style": "success",
            "description": "",
            "description_tooltip": null,
            "layout": "IPY_MODEL_786573ba7ab44a049e6ef8634f70d035",
            "max": 237,
            "min": 0,
            "orientation": "horizontal",
            "style": "IPY_MODEL_60fd16fc7d4e4599a3f931e89501d15b",
            "value": 237
          }
        },
        "f293ea25405141949f689522b2bd7284": {
          "model_module": "@jupyter-widgets/base",
          "model_module_version": "1.2.0",
          "model_name": "LayoutModel",
          "state": {
            "_model_module": "@jupyter-widgets/base",
            "_model_module_version": "1.2.0",
            "_model_name": "LayoutModel",
            "_view_count": null,
            "_view_module": "@jupyter-widgets/base",
            "_view_module_version": "1.2.0",
            "_view_name": "LayoutView",
            "align_content": null,
            "align_items": null,
            "align_self": null,
            "border": null,
            "bottom": null,
            "display": null,
            "flex": null,
            "flex_flow": null,
            "grid_area": null,
            "grid_auto_columns": null,
            "grid_auto_flow": null,
            "grid_auto_rows": null,
            "grid_column": null,
            "grid_gap": null,
            "grid_row": null,
            "grid_template_areas": null,
            "grid_template_columns": null,
            "grid_template_rows": null,
            "height": null,
            "justify_content": null,
            "justify_items": null,
            "left": null,
            "margin": null,
            "max_height": null,
            "max_width": null,
            "min_height": null,
            "min_width": null,
            "object_fit": null,
            "object_position": null,
            "order": null,
            "overflow": null,
            "overflow_x": null,
            "overflow_y": null,
            "padding": null,
            "right": null,
            "top": null,
            "visibility": null,
            "width": null
          }
        },
        "f6cf01f48e03423788666def78253b49": {
          "model_module": "@jupyter-widgets/controls",
          "model_module_version": "1.5.0",
          "model_name": "DescriptionStyleModel",
          "state": {
            "_model_module": "@jupyter-widgets/controls",
            "_model_module_version": "1.5.0",
            "_model_name": "DescriptionStyleModel",
            "_view_count": null,
            "_view_module": "@jupyter-widgets/base",
            "_view_module_version": "1.2.0",
            "_view_name": "StyleView",
            "description_width": ""
          }
        },
        "fb6a7b52654c4766ab207f15a1479e9a": {
          "model_module": "@jupyter-widgets/controls",
          "model_module_version": "1.5.0",
          "model_name": "HTMLModel",
          "state": {
            "_dom_classes": [],
            "_model_module": "@jupyter-widgets/controls",
            "_model_module_version": "1.5.0",
            "_model_name": "HTMLModel",
            "_view_count": null,
            "_view_module": "@jupyter-widgets/controls",
            "_view_module_version": "1.5.0",
            "_view_name": "HTMLView",
            "description": "",
            "description_tooltip": null,
            "layout": "IPY_MODEL_183c2b671ddc40a3bb9efd90f3bfb196",
            "placeholder": "​",
            "style": "IPY_MODEL_cfed3cb654454fc0ab18fa49bbe03169",
            "value": " 2.11M/2.11M [00:00&lt;00:00, 11.4MB/s]"
          }
        }
      }
    }
  },
  "nbformat": 4,
  "nbformat_minor": 0
}
